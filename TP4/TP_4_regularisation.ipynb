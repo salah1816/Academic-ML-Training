{
 "cells": [
  {
   "cell_type": "markdown",
   "metadata": {
    "id": "KJwPOm5G2CIE"
   },
   "source": [
    "# TP 4 Regression logistique avec régularisation\n",
    "Dans ce TP, nous aimerions faire une classification binaire en utilisant la régression.\n",
    "\n",
    "Pour ce faire, nous étudierons un ensemble de données avec la variable  (y) representant la commercialisation d'un profuit et les caractéristiques (X) representant les résultat des tests de qualité test 1 et test 2 du produit.\n",
    "\n",
    "La prédiction se fera avec l'agorithme de descente du gradient avec régularisation."
   ]
  },
  {
   "cell_type": "markdown",
   "metadata": {
    "id": "vUpflQHe2CIP"
   },
   "source": [
    "# Importation des librairies necessaires au travail"
   ]
  },
  {
   "cell_type": "code",
   "execution_count": 1,
   "metadata": {
    "id": "TLnosdgr2CIQ"
   },
   "outputs": [],
   "source": [
    "import numpy as np\n",
    "import matplotlib.pyplot as plt\n"
   ]
  },
  {
   "cell_type": "markdown",
   "metadata": {
    "id": "rR81-TD12CIT"
   },
   "source": [
    "# Lecture des fichiers de données\n",
    "Pour ce TP, nous allons lire les données à partir d'un fichier csv."
   ]
  },
  {
   "cell_type": "code",
   "execution_count": 2,
   "metadata": {
    "colab": {
     "base_uri": "https://localhost:8080/"
    },
    "id": "til4gbHZ2CIX",
    "outputId": "cf1dd778-d98f-4df2-f93e-4235fc45a051"
   },
   "outputs": [
    {
     "data": {
      "text/plain": [
       "(118, 3)"
      ]
     },
     "execution_count": 2,
     "metadata": {},
     "output_type": "execute_result"
    }
   ],
   "source": [
    "# données\n",
    "data = np.genfromtxt('data.csv', delimiter=',', dtype=float)\n",
    "data.shape"
   ]
  },
  {
   "cell_type": "markdown",
   "metadata": {
    "id": "MMbds2C02CIa"
   },
   "source": [
    "Dans ces données (data), la première colonne represente la première note, la deuxieme colonne la deuxième note et la troisième colonne represente la commercialisation (1 oui 0 non).\n",
    "\n",
    "Chaque ligne represente un exemple de notre ensemble de données. \n",
    "\n",
    "Mettons ces données dans leus vecteurs correspondants."
   ]
  },
  {
   "cell_type": "code",
   "execution_count": 3,
   "metadata": {
    "id": "KBZPyjO_2CIb"
   },
   "outputs": [],
   "source": [
    "# rajoutons l'ordonnée à l'origine theta 0\n",
    "intercept=np.ones((data.shape[0],1))\n",
    "X=np.column_stack((intercept,data[:,0:2]))\n",
    "y = data[:, 2];\n",
    "# forcer y à avoir une seule colonne\n",
    "y = y.reshape( y.shape[0], 1)"
   ]
  },
  {
   "cell_type": "code",
   "execution_count": 4,
   "metadata": {
    "colab": {
     "base_uri": "https://localhost:8080/"
    },
    "id": "J3B_wIPU2CIc",
    "outputId": "e142207e-dfe0-400b-98d9-b0aa6520f800"
   },
   "outputs": [
    {
     "name": "stdout",
     "output_type": "stream",
     "text": [
      "X (118, 3)  y  (118, 1)\n"
     ]
    }
   ],
   "source": [
    "print('X', X.shape ,' y ', y.shape)"
   ]
  },
  {
   "cell_type": "code",
   "execution_count": 5,
   "metadata": {
    "colab": {
     "base_uri": "https://localhost:8080/"
    },
    "id": "VcLm9q96LKfs",
    "outputId": "051bc4c4-7ab9-44ad-c4d0-4d1c93d1372c"
   },
   "outputs": [
    {
     "data": {
      "text/plain": [
       "array([[ 1.      ,  0.051267,  0.69956 ],\n",
       "       [ 1.      , -0.092742,  0.68494 ],\n",
       "       [ 1.      , -0.21371 ,  0.69225 ],\n",
       "       [ 1.      , -0.375   ,  0.50219 ],\n",
       "       [ 1.      , -0.51325 ,  0.46564 ],\n",
       "       [ 1.      , -0.52477 ,  0.2098  ],\n",
       "       [ 1.      , -0.39804 ,  0.034357],\n",
       "       [ 1.      , -0.30588 , -0.19225 ],\n",
       "       [ 1.      ,  0.016705, -0.40424 ],\n",
       "       [ 1.      ,  0.13191 , -0.51389 ]])"
      ]
     },
     "execution_count": 5,
     "metadata": {},
     "output_type": "execute_result"
    }
   ],
   "source": [
    "X[:10]"
   ]
  },
  {
   "cell_type": "code",
   "execution_count": 6,
   "metadata": {
    "colab": {
     "base_uri": "https://localhost:8080/"
    },
    "id": "5OfW-_8ZLNjj",
    "outputId": "c989cfeb-23a8-4c12-d729-aa93f34f4154"
   },
   "outputs": [
    {
     "data": {
      "text/plain": [
       "array([[1.],\n",
       "       [1.],\n",
       "       [1.],\n",
       "       [1.],\n",
       "       [1.],\n",
       "       [1.],\n",
       "       [1.],\n",
       "       [1.],\n",
       "       [1.],\n",
       "       [1.]])"
      ]
     },
     "execution_count": 6,
     "metadata": {},
     "output_type": "execute_result"
    }
   ],
   "source": [
    "y[:10]"
   ]
  },
  {
   "cell_type": "markdown",
   "metadata": {
    "id": "GKHDjmfo2CIe"
   },
   "source": [
    "# Transformation de données\n",
    "Dans cette partie, nous aimerions transformer nos données afin d'avoir une fonction polynomiale de degrée 6.\n",
    "\n",
    "La fonction sera:\n",
    "\n",
    "$x_0=1$\n",
    "\n",
    "$x_1=x_1$\n",
    "\n",
    "$x_2=x_2$\n",
    "\n",
    "$x_3={x_1}^2$\n",
    "\n",
    "$x_4={x_1}x_2$\n",
    "\n",
    "$x_5={x_2}^2$\n",
    "\n",
    "$x_6={x_1}^3$\n",
    "\n",
    "$x_7={x_1}^2 x_2$\n",
    "\n",
    "$x_8= x_1 {x_2}^2$\n",
    "\n",
    "$x_9= {x_2}^3$\n",
    "\n",
    "...\n"
   ]
  },
  {
   "cell_type": "markdown",
   "metadata": {
    "id": "hwerkQ_K2CIf"
   },
   "source": [
    "Pour un polynme de degrée 6 à 2 variables nous aurons 28 caracteristiques\n",
    "\n",
    "**Question**: comment avons nous trouvé ce chiffre?\n",
    "\n",
    "**Astuce**: référez vous aux probabilités\n",
    "\n",
    "**Réponse**: \n",
    "methode 1 : dans notre cas X est un trinôme, il a 2 variables alors pour connaitre nombre de termes avec n degres on applique cette regle :\n",
    "(n+1)*(n+2)/(2)=\n",
    "7*8/2=56/2=28 \n",
    "\n",
    "En général ça sera : (n+m-1)!/((n!)*((m-1)!)).\n",
    "où m est le nombre de variables\n",
    "---\n",
    "\n",
    "methode 2 : La formule dgénérale pour obtenir le nombre des caractéristiques d'un polymone à 2 variables va etre :\n",
    "\n",
    "la somme (i) pour i de 1 à (n+1) , tel que n est le degrée de la fonction polynomiale.\n"
   ]
  },
  {
   "cell_type": "code",
   "execution_count": 7,
   "metadata": {},
   "outputs": [],
   "source": [
    "def numberfeatures(degree):\n",
    "    f=0\n",
    "    for i in range(1,degree+2):\n",
    "        f=f+i\n",
    "    return f"
   ]
  },
  {
   "cell_type": "code",
   "execution_count": 8,
   "metadata": {},
   "outputs": [
    {
     "data": {
      "text/plain": [
       "28"
      ]
     },
     "execution_count": 8,
     "metadata": {},
     "output_type": "execute_result"
    }
   ],
   "source": [
    "numberfeatures(6)"
   ]
  },
  {
   "cell_type": "code",
   "execution_count": 9,
   "metadata": {
    "id": "4em3Q-662CIh"
   },
   "outputs": [],
   "source": [
    "def mapping(X):\n",
    "    \n",
    "    cols = 28\n",
    "    degree=7\n",
    "    outX= np.ones((X.shape[0],cols))\n",
    "    X1=X[:,1]\n",
    "    X2=X[:,2]\n",
    "    k=0\n",
    "    for i in range(degree):\n",
    "        for j in range(i+1):\n",
    "            outX[:, k] = np.power(X1,i-j)*(np.power(X2,j));\n",
    "            k=k+1\n",
    "    return outX    \n"
   ]
  },
  {
   "cell_type": "code",
   "execution_count": 10,
   "metadata": {
    "colab": {
     "base_uri": "https://localhost:8080/"
    },
    "id": "fIFD7OVD2CIi",
    "outputId": "bfbddbaa-c2a2-4d23-8b0b-aa172197489b"
   },
   "outputs": [
    {
     "data": {
      "text/plain": [
       "(118, 28)"
      ]
     },
     "execution_count": 10,
     "metadata": {},
     "output_type": "execute_result"
    }
   ],
   "source": [
    "XM=mapping(X)\n",
    "XM.shape"
   ]
  },
  {
   "cell_type": "code",
   "execution_count": 11,
   "metadata": {
    "colab": {
     "base_uri": "https://localhost:8080/"
    },
    "id": "DrHksYHJLRn1",
    "outputId": "26da4d40-8af3-43d1-980a-273dc292ceec"
   },
   "outputs": [
    {
     "data": {
      "text/plain": [
       "array([1.00000000e+00, 5.12670000e-02, 6.99560000e-01, 2.62830529e-03,\n",
       "       3.58643425e-02, 4.89384194e-01, 1.34745327e-04, 1.83865725e-03,\n",
       "       2.50892595e-02, 3.42353606e-01, 6.90798869e-06, 9.42624411e-05,\n",
       "       1.28625106e-03, 1.75514423e-02, 2.39496889e-01, 3.54151856e-07,\n",
       "       4.83255257e-06, 6.59422333e-05, 8.99809795e-04, 1.22782870e-02,\n",
       "       1.67542444e-01, 1.81563032e-08, 2.47750473e-07, 3.38066048e-06,\n",
       "       4.61305487e-05, 6.29470940e-04, 8.58939846e-03, 1.17205992e-01])"
      ]
     },
     "execution_count": 11,
     "metadata": {},
     "output_type": "execute_result"
    }
   ],
   "source": [
    "XM[0]"
   ]
  },
  {
   "cell_type": "markdown",
   "metadata": {
    "id": "LvJTdJg32CIj"
   },
   "source": [
    "# Descente du Gradient : Préparation des fonctions"
   ]
  },
  {
   "cell_type": "markdown",
   "metadata": {
    "id": "yaT6ocNT2CIj"
   },
   "source": [
    "0- Fonction mpgistique (Sigmoid)"
   ]
  },
  {
   "cell_type": "code",
   "execution_count": 12,
   "metadata": {
    "id": "OC5Z3HUw2CIk"
   },
   "outputs": [],
   "source": [
    "def Sigmoid(z):\n",
    "    # pour une valeur donnée, cette fonction calculera sa sigmoid\n",
    "    return 1/(1+np.exp(-z));\n",
    " "
   ]
  },
  {
   "cell_type": "code",
   "execution_count": 13,
   "metadata": {
    "colab": {
     "base_uri": "https://localhost:8080/"
    },
    "id": "QiuMNdCc2CIk",
    "outputId": "9f2064e4-577a-4d29-ae0c-01a7055c02cc"
   },
   "outputs": [
    {
     "data": {
      "text/plain": [
       "4.5397868702434395e-05"
      ]
     },
     "execution_count": 13,
     "metadata": {},
     "output_type": "execute_result"
    }
   ],
   "source": [
    "k=Sigmoid(-10)\n",
    "k"
   ]
  },
  {
   "cell_type": "code",
   "execution_count": 14,
   "metadata": {
    "id": "iAuMclEJ2CIl"
   },
   "outputs": [],
   "source": [
    "def logistic(h):\n",
    "    for i in range(h.shape[0]):\n",
    "        h[i] = Sigmoid(h[i])\n",
    "    return h"
   ]
  },
  {
   "cell_type": "markdown",
   "metadata": {
    "id": "K2HBB72g2CIm"
   },
   "source": [
    "1- Calcul du coût\n",
    "\n",
    "Cette fonction servira à calculer le cout $J(\\theta_0,\\theta_1)$\n",
    "\n",
    "Elle prendra l'ensemble de données d'apprentissage en entrée ainsi que les paramètres définis initialement"
   ]
  },
  {
   "cell_type": "code",
   "execution_count": 15,
   "metadata": {
    "id": "I_Gd7sV12CIm"
   },
   "outputs": [],
   "source": [
    "def computeCost(X, y, theta):\n",
    "    h = np.matmul(X, theta)\n",
    "    H = logistic(h)\n",
    "    m = X.shape[0]\n",
    "#     print((y*np.log(H+0.00001) + (1-y)*np.log(1-H+0.00001)))\n",
    "    return sum((y*np.log(H+0.00001) + (1-y)*np.log(1-H+0.00001))) / (-m)"
   ]
  },
  {
   "cell_type": "code",
   "execution_count": 16,
   "metadata": {
    "id": "Uqal1Hw22CIn"
   },
   "outputs": [],
   "source": [
    "# L2 regularization (Ridge)\n",
    "# landa is the regularization parameter\n",
    "# keeping landa small to avoid overfitting\n",
    "# landa = 0 ==> no regulariztion effect\n",
    "def computeCostReg(X, y, theta, landa):\n",
    "    m = X.shape[0]\n",
    "    a = sum(computeCost(X, y, theta)) / m\n",
    "    b = sum(np.square(theta)) * (landa / (2 * m))\n",
    "    return a + b"
   ]
  },
  {
   "cell_type": "markdown",
   "metadata": {
    "id": "Kvk0ILWx2CIo"
   },
   "source": [
    "2- Fonction de la descente du gradient\n",
    "\n",
    "Cette fonction mettra à jour les paramètres $\\theta_0,\\theta_1$ jusqu'à convergence: atteinte du nombre d'itérations max, ou dérivée assez petite."
   ]
  },
  {
   "cell_type": "code",
   "execution_count": 17,
   "metadata": {
    "id": "pOQjUdYt2CIp"
   },
   "outputs": [],
   "source": [
    "def gradientDescent(X, y, theta, alpha, iterations, lada):\n",
    "    m = X.shape[0]\n",
    "    \n",
    "    for i in range(iterations):\n",
    "        H = logistic(np.matmul(X,theta))\n",
    "        \n",
    "        diff = np.subtract(H, y)\n",
    "        \n",
    "        t = theta\n",
    "        t[0]= 0\n",
    "        a = np.matmul(np.transpose(X), diff)\n",
    "        theta = theta - alpha*(a + lada * t)/m\n",
    "        \n",
    "       \n",
    "    return theta"
   ]
  },
  {
   "cell_type": "code",
   "execution_count": 18,
   "metadata": {
    "id": "ntQWJx_esl0J"
   },
   "outputs": [],
   "source": [
    "# c'est le meme GD avec le précédent, just cette GD calcul le cout et  le cout regularized pour le traçage de fonction de cout\n",
    "def gradientDescent2(X, y, theta, alpha, iterations, lada):\n",
    "    m = X.shape[0]\n",
    "\n",
    "    theta_costs = []\n",
    "    cost = computeCost(X, y, theta)\n",
    "    t = np.asarray(theta.flatten())\n",
    "    t=np.append(t,cost)\n",
    "    theta_costs.append(t)\n",
    "\n",
    "    theta_costs_reg = []\n",
    "    cost = computeCostReg(X, y, theta, lada)\n",
    "    t = np.asarray(theta.flatten())\n",
    "    t=np.append(t,cost)\n",
    "    theta_costs_reg.append(t)\n",
    "\n",
    "    for i in range(iterations):\n",
    "        H = logistic(np.matmul(X,theta))\n",
    "        \n",
    "        diff = np.subtract(H, y)\n",
    "        \n",
    "        t = theta\n",
    "        t[0]= 0\n",
    "        a = np.matmul(np.transpose(X), diff)\n",
    "        theta = theta - alpha*(a + lada * t)/m\n",
    "        \n",
    "        cost = computeCost(X, y, theta)\n",
    "        t = np.asarray(theta.flatten())\n",
    "        t=np.append(t,cost)\n",
    "        theta_costs.append(t)\n",
    "        cost = computeCostReg(X, y, theta, lada)\n",
    "        t = np.asarray(theta.flatten())\n",
    "        t=np.append(t,cost)\n",
    "        theta_costs_reg.append(t)\n",
    "       \n",
    "    return theta,theta_costs,theta_costs_reg"
   ]
  },
  {
   "cell_type": "markdown",
   "metadata": {
    "id": "JHxkjCfJ2CIq"
   },
   "source": [
    "# Descente du Gradient : Appel des fonctions"
   ]
  },
  {
   "cell_type": "markdown",
   "metadata": {
    "id": "tBBKWX-c2CIq"
   },
   "source": [
    "Initialisation de $\\theta_0$ et $\\theta_1$"
   ]
  },
  {
   "cell_type": "code",
   "execution_count": 19,
   "metadata": {
    "id": "4jJc2DSe2CIr"
   },
   "outputs": [],
   "source": [
    "n=XM.shape[1]\n",
    "theta = np.ones((n, 1))\n"
   ]
  },
  {
   "cell_type": "markdown",
   "metadata": {
    "id": "Hav_lrEx2CIr"
   },
   "source": [
    "Calculer le cout initial"
   ]
  },
  {
   "cell_type": "code",
   "execution_count": 20,
   "metadata": {
    "colab": {
     "base_uri": "https://localhost:8080/"
    },
    "id": "MVljhEp62CIs",
    "outputId": "e578baea-123b-4f03-d9c9-8b0df469e210"
   },
   "outputs": [
    {
     "name": "stdout",
     "output_type": "stream",
     "text": [
      "[2.00337545]\n"
     ]
    }
   ],
   "source": [
    "initialCost=computeCost(XM, y, theta)\n",
    "print(initialCost)"
   ]
  },
  {
   "cell_type": "code",
   "execution_count": 21,
   "metadata": {
    "colab": {
     "base_uri": "https://localhost:8080/"
    },
    "id": "dG_RoNIJ_2Hr",
    "outputId": "40cb8d94-4e10-4bdd-b97f-a3bfcbd9a850"
   },
   "outputs": [
    {
     "data": {
      "text/plain": [
       "array([0.13562183])"
      ]
     },
     "execution_count": 21,
     "metadata": {},
     "output_type": "execute_result"
    }
   ],
   "source": [
    "computeCostReg(XM, y, theta, 1)"
   ]
  },
  {
   "cell_type": "markdown",
   "metadata": {
    "id": "yU5lATba2CIs"
   },
   "source": [
    "Appel des la fonction de calcul du gradient"
   ]
  },
  {
   "cell_type": "code",
   "execution_count": 22,
   "metadata": {},
   "outputs": [
    {
     "data": {
      "text/plain": [
       "array([[ 1.00561713e-02],\n",
       "       [ 3.47038054e-01],\n",
       "       [ 1.01947435e+00],\n",
       "       [-7.07581005e-01],\n",
       "       [-9.65182383e-01],\n",
       "       [ 6.75352280e-02],\n",
       "       [ 1.34463223e-01],\n",
       "       [-3.33065313e-01],\n",
       "       [-2.02417745e-01],\n",
       "       [-1.66677158e-01],\n",
       "       [-1.05390377e+00],\n",
       "       [-1.30442188e-02],\n",
       "       [-3.65932272e-01],\n",
       "       [-1.83614021e-01],\n",
       "       [-8.46827397e-01],\n",
       "       [-1.99504391e-01],\n",
       "       [-1.14269803e-01],\n",
       "       [ 8.17235223e-02],\n",
       "       [-1.60488843e-01],\n",
       "       [-1.18085446e-01],\n",
       "       [-5.75850932e-01],\n",
       "       [-8.66594517e-01],\n",
       "       [ 1.21566086e-01],\n",
       "       [-1.20099174e-01],\n",
       "       [ 1.40655606e-01],\n",
       "       [-1.68795687e-01],\n",
       "       [ 5.26985269e-06],\n",
       "       [-9.51086839e-01]])"
      ]
     },
     "execution_count": 22,
     "metadata": {},
     "output_type": "execute_result"
    }
   ],
   "source": [
    "# paramètres\n",
    "iterations = 2000;\n",
    "alpha = 0.1;\n",
    "\n",
    "# paramètre de regression\n",
    "lambdaa = 1;\n",
    "#lambdaa = 10;\n",
    "n=XM.shape[1]\n",
    "theta = np.ones((n, 1))\n",
    "theta =gradientDescent(XM, y, theta, alpha, iterations, lambdaa);\n",
    "theta"
   ]
  },
  {
   "cell_type": "code",
   "execution_count": 24,
   "metadata": {},
   "outputs": [
    {
     "data": {
      "text/plain": [
       "(28, 1)"
      ]
     },
     "execution_count": 24,
     "metadata": {},
     "output_type": "execute_result"
    }
   ],
   "source": [
    "np.shape(theta)"
   ]
  },
  {
   "cell_type": "code",
   "execution_count": 30,
   "metadata": {},
   "outputs": [
    {
     "data": {
      "text/plain": [
       "(28,)"
      ]
     },
     "execution_count": 30,
     "metadata": {},
     "output_type": "execute_result"
    }
   ],
   "source": [
    "np.shape(np.ravel(theta))"
   ]
  },
  {
   "cell_type": "code",
   "execution_count": 29,
   "metadata": {},
   "outputs": [
    {
     "data": {
      "text/plain": [
       "array([[ 1.00561713e-02],\n",
       "       [ 3.47038054e-01],\n",
       "       [ 1.01947435e+00],\n",
       "       [-7.07581005e-01],\n",
       "       [-9.65182383e-01],\n",
       "       [ 6.75352280e-02],\n",
       "       [ 1.34463223e-01],\n",
       "       [-3.33065313e-01],\n",
       "       [-2.02417745e-01],\n",
       "       [-1.66677158e-01],\n",
       "       [-1.05390377e+00],\n",
       "       [-1.30442188e-02],\n",
       "       [-3.65932272e-01],\n",
       "       [-1.83614021e-01],\n",
       "       [-8.46827397e-01],\n",
       "       [-1.99504391e-01],\n",
       "       [-1.14269803e-01],\n",
       "       [ 8.17235223e-02],\n",
       "       [-1.60488843e-01],\n",
       "       [-1.18085446e-01],\n",
       "       [-5.75850932e-01],\n",
       "       [-8.66594517e-01],\n",
       "       [ 1.21566086e-01],\n",
       "       [-1.20099174e-01],\n",
       "       [ 1.40655606e-01],\n",
       "       [-1.68795687e-01],\n",
       "       [ 5.26985269e-06],\n",
       "       [-9.51086839e-01]])"
      ]
     },
     "execution_count": 29,
     "metadata": {},
     "output_type": "execute_result"
    }
   ],
   "source": [
    "theta"
   ]
  },
  {
   "cell_type": "code",
   "execution_count": 22,
   "metadata": {
    "id": "o9VKlmZg2CIs"
   },
   "outputs": [],
   "source": [
    "\n",
    "# Appel\n",
    "theta,theta_costs,theta_costs_reg = gradientDescent2(XM, y, theta, alpha, iterations, lambdaa);"
   ]
  },
  {
   "cell_type": "code",
   "execution_count": 23,
   "metadata": {
    "colab": {
     "base_uri": "https://localhost:8080/"
    },
    "id": "c8mz0D7l8K9c",
    "outputId": "52ea724a-45fd-4cef-e4a8-654810cc720e"
   },
   "outputs": [
    {
     "data": {
      "text/plain": [
       "array([[ 1.00561713e-02],\n",
       "       [ 3.47038054e-01],\n",
       "       [ 1.01947435e+00],\n",
       "       [-7.07581005e-01],\n",
       "       [-9.65182383e-01],\n",
       "       [ 6.75352280e-02],\n",
       "       [ 1.34463223e-01],\n",
       "       [-3.33065313e-01],\n",
       "       [-2.02417745e-01],\n",
       "       [-1.66677158e-01],\n",
       "       [-1.05390377e+00],\n",
       "       [-1.30442188e-02],\n",
       "       [-3.65932272e-01],\n",
       "       [-1.83614021e-01],\n",
       "       [-8.46827397e-01],\n",
       "       [-1.99504391e-01],\n",
       "       [-1.14269803e-01],\n",
       "       [ 8.17235223e-02],\n",
       "       [-1.60488843e-01],\n",
       "       [-1.18085446e-01],\n",
       "       [-5.75850932e-01],\n",
       "       [-8.66594517e-01],\n",
       "       [ 1.21566086e-01],\n",
       "       [-1.20099174e-01],\n",
       "       [ 1.40655606e-01],\n",
       "       [-1.68795687e-01],\n",
       "       [ 5.26985269e-06],\n",
       "       [-9.51086839e-01]])"
      ]
     },
     "execution_count": 23,
     "metadata": {},
     "output_type": "execute_result"
    }
   ],
   "source": [
    "theta"
   ]
  },
  {
   "cell_type": "code",
   "execution_count": 24,
   "metadata": {
    "colab": {
     "base_uri": "https://localhost:8080/"
    },
    "id": "WKVneQcRGZgb",
    "outputId": "e7c0f91b-04ce-4404-8698-1e39c2e07ca4"
   },
   "outputs": [
    {
     "data": {
      "text/plain": [
       "array([0.56214895])"
      ]
     },
     "execution_count": 24,
     "metadata": {},
     "output_type": "execute_result"
    }
   ],
   "source": [
    "computeCost(XM,y,theta)"
   ]
  },
  {
   "cell_type": "code",
   "execution_count": 25,
   "metadata": {},
   "outputs": [
    {
     "data": {
      "text/plain": [
       "(2001, 29)"
      ]
     },
     "execution_count": 25,
     "metadata": {},
     "output_type": "execute_result"
    }
   ],
   "source": [
    "np.shape(np.asmatrix(theta_costs))"
   ]
  },
  {
   "cell_type": "markdown",
   "metadata": {
    "id": "wLFUjtHq2CIt"
   },
   "source": [
    "Traçage de la fonction du coût"
   ]
  },
  {
   "cell_type": "code",
   "execution_count": 26,
   "metadata": {
    "colab": {
     "base_uri": "https://localhost:8080/",
     "height": 348
    },
    "id": "fz0Uajo4nzUT",
    "outputId": "f7d76fba-48de-4b3b-ab7c-e2ab024e8f8e"
   },
   "outputs": [
    {
     "data": {
      "image/png": "[encoded data removed]",
      "text/plain": [
       "<Figure size 432x288 with 1 Axes>"
      ]
     },
     "metadata": {
      "needs_background": "light"
     },
     "output_type": "display_data"
    },
    {
     "name": "stdout",
     "output_type": "stream",
     "text": [
      "cost debut [[2.00337545]]\n",
      "cost fin [[0.56214895]]\n",
      "cost avec regularization debut [[0.13562183]]\n",
      "cost avec regularization fin [[0.0342298]]\n"
     ]
    }
   ],
   "source": [
    "x = [i for i in range(iterations+1)]\n",
    "\n",
    "theta_costs = np.asmatrix(theta_costs)\n",
    "costs = theta_costs[:,n]\n",
    "theta_costs_reg = np.asmatrix(theta_costs_reg)\n",
    "costs_reg = theta_costs_reg[:,n]\n",
    "\n",
    "plt.plot(x, costs, label='cost')\n",
    "plt.plot(x, costs_reg, label='cost with regularization')\n",
    "plt.xlabel('Itération')\n",
    "plt.ylabel('Coût')\n",
    "plt.legend(loc='best')\n",
    "plt.show()\n",
    "print('cost debut {}'.format(costs[0]))\n",
    "print('cost fin {}'.format(costs[-1]))\n",
    "print('cost avec regularization debut {}'.format(costs_reg[0]))\n",
    "print('cost avec regularization fin {}'.format(costs_reg[-1]))"
   ]
  },
  {
   "cell_type": "markdown",
   "metadata": {
    "id": "IUStvjLe2CIt"
   },
   "source": [
    "Notons que $\\theta^T  x$ est équivalent à $X  \\theta $ où $X= \\begin{pmatrix}\n",
    "..(x^{(1)})^T..\\\\\n",
    "..(x^{(2)})^T..\\\\\n",
    ".\\\\\n",
    ".\\\\\n",
    ".\\\\\n",
    "..(x^{(m)})^T..\n",
    "\\end{pmatrix} $"
   ]
  },
  {
   "cell_type": "markdown",
   "metadata": {
    "id": "zU5rGt9H2CIu"
   },
   "source": [
    "# Classification (Prédiction)\n",
    "Ici il serait interessant de calculer la prédiction en utilisant un seuil\n",
    "i.e. si h>seuil alors classe =1 sinon classe = 0"
   ]
  },
  {
   "cell_type": "code",
   "execution_count": 27,
   "metadata": {
    "id": "g-gE5vJi2CIv"
   },
   "outputs": [],
   "source": [
    "def predict(X,theta):\n",
    "    return np.matmul(X,theta)\n"
   ]
  },
  {
   "cell_type": "code",
   "execution_count": 28,
   "metadata": {
    "id": "taYI7ZOTC5JU"
   },
   "outputs": [],
   "source": [
    "def classer(Y,seuil):\n",
    "    C = np.zeros((Y.shape[0],1))\n",
    "    for i in range(Y.shape[0]):\n",
    "        if(Y[i]>seuil):\n",
    "            C[i] = 1\n",
    "      \n",
    "    \n",
    "    return C\n"
   ]
  },
  {
   "cell_type": "markdown",
   "metadata": {
    "id": "nGUwaS-e2CIu"
   },
   "source": [
    "# Dessin de la limite de decision (Descision Boundary)\n",
    "Dans cette partie, nous aimerions dessiner la ligne separatrice d nos données"
   ]
  },
  {
   "cell_type": "code",
   "execution_count": 29,
   "metadata": {
    "id": "gGl_nWde1A6l"
   },
   "outputs": [],
   "source": [
    "def prepareData(X):\n",
    "    x_min, x_max = X[:, 1].min() - 1, X[:, 1].max() + 1\n",
    "    y_min, y_max = X[:, 2].min() - 1, X[:, 2].max() + 1\n",
    "\n",
    "\n",
    "    xx_train, yy_train = np.meshgrid(np.arange(x_min, x_max, 0.1),\n",
    "                                 np.arange(y_min, y_max, 0.1))\n",
    "\n",
    "\n",
    "    X2 = np.c_[xx_train.ravel(), yy_train.ravel()] # np.concatenate(axis=1)\n",
    "    intercept = np.ones((X2.shape[0],1))\n",
    "    X2 = np.column_stack((intercept,X2))\n",
    "    XM2 = mapping(X2)\n",
    "    return XM2,xx_train,yy_train"
   ]
  },
  {
   "cell_type": "markdown",
   "metadata": {
    "id": "0pN4ia5k3SWq"
   },
   "source": [
    "**decision boundary avec regularization**"
   ]
  },
  {
   "cell_type": "code",
   "execution_count": 30,
   "metadata": {
    "colab": {
     "base_uri": "https://localhost:8080/",
     "height": 530
    },
    "id": "zSBtu4uA2CIu",
    "outputId": "b4835f8e-7067-4580-9644-75313485009b"
   },
   "outputs": [
    {
     "data": {
      "text/plain": [
       "Text(0.5, 1.0, 'decision boundary avec regularization')"
      ]
     },
     "execution_count": 30,
     "metadata": {},
     "output_type": "execute_result"
    },
    {
     "data": {
      "image/png": "[encoded data removed]",
      "text/plain": [
       "<Figure size 576x576 with 1 Axes>"
      ]
     },
     "metadata": {
      "needs_background": "light"
     },
     "output_type": "display_data"
    }
   ],
   "source": [
    "XM2,x1,x2 = prepareData(X)\n",
    "seuil = -0.45\n",
    "y_pred= predict(XM2,theta)\n",
    "y_classe = classer(y_pred,seuil)\n",
    "y_classe = y_classe.reshape(x1.shape)\n",
    "plt.figure(figsize=(8,8))\n",
    "plt.contourf(x1, x2, y_classe)\n",
    "plt.scatter(X[np.where(y==1),1],X[np.where(y==1),2], label=\"accepte\",marker ='o')\n",
    "plt.scatter(X[np.where(y==0),1],X[np.where(y==0),2], label=\"non accepte\",marker ='x')\n",
    "plt.xlabel('x1')\n",
    "plt.ylabel('x2')\n",
    "plt.title(\"decision boundary avec regularization\")"
   ]
  },
  {
   "cell_type": "markdown",
   "metadata": {
    "id": "1LKJxODR8OoJ"
   },
   "source": [
    "**On remarque que ce model avec regularization généralise bien sans tomber dans le sur-apprentissage**"
   ]
  },
  {
   "cell_type": "code",
   "execution_count": null,
   "metadata": {
    "id": "IgDoWnqYtfpv"
   },
   "outputs": [],
   "source": []
  },
  {
   "cell_type": "markdown",
   "metadata": {
    "id": "OCunBZV6th9W"
   },
   "source": [
    "# Equation Normale"
   ]
  },
  {
   "cell_type": "code",
   "execution_count": 31,
   "metadata": {
    "id": "1ZFuB2wxE1MZ"
   },
   "outputs": [],
   "source": [
    "def normalEquation(X,Y,landa,E):\n",
    "    return np.linalg.inv(X.T.dot(X) + landa*E).dot(X.T).dot(Y)\n"
   ]
  },
  {
   "cell_type": "code",
   "execution_count": 32,
   "metadata": {
    "id": "0WlfO7JBF1km"
   },
   "outputs": [],
   "source": [
    "E = np.identity(n)"
   ]
  },
  {
   "cell_type": "code",
   "execution_count": 33,
   "metadata": {
    "id": "3oqAyNnAF55K"
   },
   "outputs": [],
   "source": [
    "E[0][0] = 0"
   ]
  },
  {
   "cell_type": "code",
   "execution_count": 34,
   "metadata": {
    "id": "tgatjuB_F8Ml"
   },
   "outputs": [],
   "source": [
    "E = E.reshape(n,n)"
   ]
  },
  {
   "cell_type": "code",
   "execution_count": 35,
   "metadata": {
    "id": "Q5GVEPauGEn-"
   },
   "outputs": [],
   "source": [
    "t = normalEquation(XM,y,1,E)"
   ]
  },
  {
   "cell_type": "code",
   "execution_count": 36,
   "metadata": {
    "colab": {
     "base_uri": "https://localhost:8080/"
    },
    "id": "SoRHORJBvU37",
    "outputId": "6db4fb0a-d35c-4b3b-8b48-0f56298bdc9a"
   },
   "outputs": [
    {
     "data": {
      "text/plain": [
       "array([[ 0.94416708,  0.2315894 ,  0.41142826, -0.7380916 , -0.50116657,\n",
       "        -0.69193639,  0.1003575 , -0.10718673, -0.06667559, -0.05556887,\n",
       "        -0.45471969,  0.09321721, -0.23956536, -0.07088082, -0.40279421,\n",
       "         0.04618662, -0.01432296,  0.04153635, -0.10356044, -0.02654812,\n",
       "         0.05619122, -0.18296629,  0.12363998, -0.11445861,  0.06788982,\n",
       "        -0.10602358,  0.04149463, -0.05781815]])"
      ]
     },
     "execution_count": 36,
     "metadata": {},
     "output_type": "execute_result"
    }
   ],
   "source": [
    "t.reshape(1,t.shape[0])"
   ]
  },
  {
   "cell_type": "code",
   "execution_count": 37,
   "metadata": {
    "colab": {
     "base_uri": "https://localhost:8080/"
    },
    "id": "Vq71jcNx0moN",
    "outputId": "e08ddb83-b1cd-4e29-e4ce-9107f755e045"
   },
   "outputs": [
    {
     "data": {
      "text/plain": [
       "array([[ 1.00561713e-02,  3.47038054e-01,  1.01947435e+00,\n",
       "        -7.07581005e-01, -9.65182383e-01,  6.75352280e-02,\n",
       "         1.34463223e-01, -3.33065313e-01, -2.02417745e-01,\n",
       "        -1.66677158e-01, -1.05390377e+00, -1.30442188e-02,\n",
       "        -3.65932272e-01, -1.83614021e-01, -8.46827397e-01,\n",
       "        -1.99504391e-01, -1.14269803e-01,  8.17235223e-02,\n",
       "        -1.60488843e-01, -1.18085446e-01, -5.75850932e-01,\n",
       "        -8.66594517e-01,  1.21566086e-01, -1.20099174e-01,\n",
       "         1.40655606e-01, -1.68795687e-01,  5.26985269e-06,\n",
       "        -9.51086839e-01]])"
      ]
     },
     "execution_count": 37,
     "metadata": {},
     "output_type": "execute_result"
    }
   ],
   "source": [
    "theta.reshape(1,theta.shape[0])"
   ]
  },
  {
   "cell_type": "markdown",
   "metadata": {
    "id": "7wu4MzYK3gWA"
   },
   "source": [
    "**cost de GD et normal equation sont presque similaires**\n",
    "**mais equation normale est plus precise et généralise mieux que le GD et sans tomber dans le sur-apprentissage**"
   ]
  },
  {
   "cell_type": "code",
   "execution_count": 38,
   "metadata": {
    "colab": {
     "base_uri": "https://localhost:8080/"
    },
    "id": "LSuFg4rBGWAh",
    "outputId": "87877938-fbc7-4a2a-8690-57ac7d1ed6ef"
   },
   "outputs": [
    {
     "data": {
      "text/plain": [
       "array([0.56214895])"
      ]
     },
     "execution_count": 38,
     "metadata": {},
     "output_type": "execute_result"
    }
   ],
   "source": [
    "computeCost(XM,y,theta)"
   ]
  },
  {
   "cell_type": "code",
   "execution_count": 39,
   "metadata": {
    "colab": {
     "base_uri": "https://localhost:8080/"
    },
    "id": "QDV2bb7Fu--3",
    "outputId": "bc373c94-1a19-4d72-fc6b-1468498a4067"
   },
   "outputs": [
    {
     "data": {
      "text/plain": [
       "array([0.63205508])"
      ]
     },
     "execution_count": 39,
     "metadata": {},
     "output_type": "execute_result"
    }
   ],
   "source": [
    "computeCost(XM,y,t)"
   ]
  },
  {
   "cell_type": "markdown",
   "metadata": {
    "id": "Frm2Jjd-3GEj"
   },
   "source": [
    "**decision boundary avec regularization avec equation normale**"
   ]
  },
  {
   "cell_type": "code",
   "execution_count": 40,
   "metadata": {
    "colab": {
     "base_uri": "https://localhost:8080/",
     "height": 530
    },
    "id": "fu5MMoKX24cr",
    "outputId": "fbcb2a0c-1947-4347-dd88-1c80668d9f2e"
   },
   "outputs": [
    {
     "data": {
      "text/plain": [
       "Text(0.5, 1.0, 'decision boundary avec regularization avec equation normale')"
      ]
     },
     "execution_count": 40,
     "metadata": {},
     "output_type": "execute_result"
    },
    {
     "data": {
      "image/png": "[encoded data removed]",
      "text/plain": [
       "<Figure size 576x576 with 1 Axes>"
      ]
     },
     "metadata": {
      "needs_background": "light"
     },
     "output_type": "display_data"
    }
   ],
   "source": [
    "XM2,x1,x2 = prepareData(X)\n",
    "seuil = 0.5\n",
    "y_pred= predict(XM2,t)\n",
    "y_classe = classer(y_pred,seuil)\n",
    "y_classe = y_classe.reshape(x1.shape)\n",
    "plt.figure(figsize=(8,8))\n",
    "plt.contourf(x1, x2, y_classe)\n",
    "plt.scatter(X[np.where(y==1),1],X[np.where(y==1),2], label=\"accepte\",marker ='o')\n",
    "plt.scatter(X[np.where(y==0),1],X[np.where(y==0),2], label=\"non accepte\",marker ='x')\n",
    "plt.xlabel('x1')\n",
    "plt.ylabel('x2')\n",
    "plt.title(\"decision boundary avec regularization avec equation normale\")"
   ]
  },
  {
   "cell_type": "markdown",
   "metadata": {
    "id": "7YtpqZ5e7Y1u"
   },
   "source": [
    "**On remarque que ce model avec regularization généralise bien sans tomber dans le sur-apprentissage**"
   ]
  },
  {
   "cell_type": "code",
   "execution_count": null,
   "metadata": {
    "id": "dR33_9ke8HWu"
   },
   "outputs": [],
   "source": []
  },
  {
   "cell_type": "markdown",
   "metadata": {
    "id": "WRfnndm94ULD"
   },
   "source": [
    "**decision boundary sans regularization avec equation normale**"
   ]
  },
  {
   "cell_type": "code",
   "execution_count": 41,
   "metadata": {
    "id": "c7NUHnbZ4bVK"
   },
   "outputs": [],
   "source": [
    "t = normalEquation(XM,y,0,E)"
   ]
  },
  {
   "cell_type": "code",
   "execution_count": 42,
   "metadata": {
    "colab": {
     "base_uri": "https://localhost:8080/",
     "height": 530
    },
    "id": "_7jGFxJb4ULE",
    "outputId": "f4b20e1f-4f8e-49aa-d60e-80724dfe870b"
   },
   "outputs": [
    {
     "data": {
      "text/plain": [
       "Text(0.5, 1.0, 'decision boundary sans regularization avec equation normale')"
      ]
     },
     "execution_count": 42,
     "metadata": {},
     "output_type": "execute_result"
    },
    {
     "data": {
      "image/png": "[encoded data removed]",
      "text/plain": [
       "<Figure size 576x576 with 1 Axes>"
      ]
     },
     "metadata": {
      "needs_background": "light"
     },
     "output_type": "display_data"
    }
   ],
   "source": [
    "XM2,x1,x2 = prepareData(X)\n",
    "seuil = 0.23\n",
    "y_pred= predict(XM2,t)\n",
    "y_classe = classer(y_pred,seuil)\n",
    "y_classe = y_classe.reshape(x1.shape)\n",
    "plt.figure(figsize=(8,8))\n",
    "plt.contourf(x1, x2, y_classe)\n",
    "plt.scatter(X[np.where(y==1),1],X[np.where(y==1),2], label=\"accepte\",marker ='o')\n",
    "plt.scatter(X[np.where(y==0),1],X[np.where(y==0),2], label=\"non accepte\",marker ='x')\n",
    "plt.xlabel('x1')\n",
    "plt.ylabel('x2')\n",
    "plt.title(\"decision boundary sans regularization avec equation normale\")"
   ]
  },
  {
   "cell_type": "markdown",
   "metadata": {
    "id": "RoIv6QwU5goP"
   },
   "source": [
    "**On remarque que ce model a sur-apprenti sans regularization**"
   ]
  },
  {
   "cell_type": "code",
   "execution_count": null,
   "metadata": {
    "id": "tTwXNVuv8tX7"
   },
   "outputs": [],
   "source": []
  },
  {
   "cell_type": "markdown",
   "metadata": {
    "id": "kU4tObuj8tsZ"
   },
   "source": [
    "**decision boundary avec regularization avec equation normale avec un grand valeur de lambda**"
   ]
  },
  {
   "cell_type": "code",
   "execution_count": 43,
   "metadata": {
    "id": "A3txdtYz8tsa"
   },
   "outputs": [],
   "source": [
    "t = normalEquation(XM,y,100,E)"
   ]
  },
  {
   "cell_type": "code",
   "execution_count": 44,
   "metadata": {
    "colab": {
     "base_uri": "https://localhost:8080/",
     "height": 530
    },
    "id": "vbbLDpPj8tsb",
    "outputId": "2df61270-4c78-45c8-80e1-18ae80e336a8"
   },
   "outputs": [
    {
     "data": {
      "text/plain": [
       "Text(0.5, 1.0, 'decision boundary avec beaucoup de regularization avec equation normale')"
      ]
     },
     "execution_count": 44,
     "metadata": {},
     "output_type": "execute_result"
    },
    {
     "data": {
      "image/png": "[encoded data removed]",
      "text/plain": [
       "<Figure size 576x576 with 1 Axes>"
      ]
     },
     "metadata": {
      "needs_background": "light"
     },
     "output_type": "display_data"
    }
   ],
   "source": [
    "XM2,x1,x2 = prepareData(X)\n",
    "seuil = 0.5\n",
    "y_pred= predict(XM2,t)\n",
    "y_classe = classer(y_pred,seuil)\n",
    "y_classe = y_classe.reshape(x1.shape)\n",
    "plt.figure(figsize=(8,8))\n",
    "plt.contourf(x1, x2, y_classe)\n",
    "plt.scatter(X[np.where(y==1),1],X[np.where(y==1),2], label=\"accepte\",marker ='o')\n",
    "plt.scatter(X[np.where(y==0),1],X[np.where(y==0),2], label=\"non accepte\",marker ='x')\n",
    "plt.xlabel('x1')\n",
    "plt.ylabel('x2')\n",
    "plt.title(\"decision boundary avec beaucoup de regularization avec equation normale\")"
   ]
  },
  {
   "cell_type": "markdown",
   "metadata": {
    "id": "gRjtqwc-8tsb"
   },
   "source": [
    "**On remarque que ce model a sous-apprenti avec un grand valeur de lambda quelque soit la valeur de seuil**"
   ]
  },
  {
   "cell_type": "markdown",
   "metadata": {
    "id": "5BX8x9nN2CIx"
   },
   "source": [
    "# Qualité du classifieur\n",
    "\n",
    "Prédire des valeurs de y\n",
    "\n",
    "Ici il serait interessant de calculer la précision de notre classifieur\n",
    "\n",
    "Essayons de calculer ça avec \n",
    "\n",
    "moyenne(y==y-pred) * 100\n",
    "\n",
    "Ceci donnera un pourcentage de precision"
   ]
  },
  {
   "cell_type": "code",
   "execution_count": 45,
   "metadata": {
    "id": "hKHxv0k82CIx"
   },
   "outputs": [],
   "source": [
    "# calcul de precision = nombre de valeurs bien prédites (ici sur toute la base X)\n",
    "y_proba=predict(XM,theta)\n",
    "y_predict = classer(y_proba, -0.45)\n",
    "precision = np.mean(y==y_predict)*100"
   ]
  },
  {
   "cell_type": "code",
   "execution_count": 46,
   "metadata": {
    "colab": {
     "base_uri": "https://localhost:8080/"
    },
    "id": "THqCKExUHgdU",
    "outputId": "50f38a3b-8b1d-4199-808b-7e15c8b85cb3"
   },
   "outputs": [
    {
     "name": "stdout",
     "output_type": "stream",
     "text": [
      "precision = 81.36%\n"
     ]
    }
   ],
   "source": [
    "print(\"precision = {:.2f}%\".format(precision))"
   ]
  },
  {
   "cell_type": "code",
   "execution_count": 47,
   "metadata": {},
   "outputs": [
    {
     "data": {
      "text/plain": [
       "array([[1.],\n",
       "       [1.],\n",
       "       [1.],\n",
       "       [1.],\n",
       "       [1.],\n",
       "       [1.],\n",
       "       [1.],\n",
       "       [1.],\n",
       "       [1.],\n",
       "       [1.],\n",
       "       [1.],\n",
       "       [1.],\n",
       "       [1.],\n",
       "       [0.],\n",
       "       [1.],\n",
       "       [1.],\n",
       "       [1.],\n",
       "       [1.],\n",
       "       [1.],\n",
       "       [1.],\n",
       "       [1.],\n",
       "       [1.],\n",
       "       [0.],\n",
       "       [0.],\n",
       "       [0.],\n",
       "       [0.],\n",
       "       [1.],\n",
       "       [0.],\n",
       "       [1.],\n",
       "       [1.],\n",
       "       [0.],\n",
       "       [1.],\n",
       "       [1.],\n",
       "       [1.],\n",
       "       [1.],\n",
       "       [1.],\n",
       "       [1.],\n",
       "       [1.],\n",
       "       [1.],\n",
       "       [1.],\n",
       "       [1.],\n",
       "       [1.],\n",
       "       [1.],\n",
       "       [1.],\n",
       "       [1.],\n",
       "       [1.],\n",
       "       [0.],\n",
       "       [1.],\n",
       "       [1.],\n",
       "       [1.],\n",
       "       [1.],\n",
       "       [1.],\n",
       "       [1.],\n",
       "       [1.],\n",
       "       [1.],\n",
       "       [1.],\n",
       "       [1.],\n",
       "       [1.],\n",
       "       [0.],\n",
       "       [1.],\n",
       "       [1.],\n",
       "       [0.],\n",
       "       [0.],\n",
       "       [1.],\n",
       "       [0.],\n",
       "       [0.],\n",
       "       [0.],\n",
       "       [0.],\n",
       "       [0.],\n",
       "       [0.],\n",
       "       [0.],\n",
       "       [0.],\n",
       "       [0.],\n",
       "       [0.],\n",
       "       [0.],\n",
       "       [1.],\n",
       "       [1.],\n",
       "       [1.],\n",
       "       [0.],\n",
       "       [0.],\n",
       "       [0.],\n",
       "       [0.],\n",
       "       [0.],\n",
       "       [0.],\n",
       "       [0.],\n",
       "       [0.],\n",
       "       [0.],\n",
       "       [1.],\n",
       "       [1.],\n",
       "       [0.],\n",
       "       [0.],\n",
       "       [1.],\n",
       "       [1.],\n",
       "       [0.],\n",
       "       [0.],\n",
       "       [0.],\n",
       "       [0.],\n",
       "       [0.],\n",
       "       [0.],\n",
       "       [0.],\n",
       "       [0.],\n",
       "       [0.],\n",
       "       [0.],\n",
       "       [0.],\n",
       "       [0.],\n",
       "       [0.],\n",
       "       [0.],\n",
       "       [1.],\n",
       "       [0.],\n",
       "       [0.],\n",
       "       [0.],\n",
       "       [0.],\n",
       "       [0.],\n",
       "       [1.],\n",
       "       [1.],\n",
       "       [0.],\n",
       "       [0.],\n",
       "       [1.]])"
      ]
     },
     "execution_count": 47,
     "metadata": {},
     "output_type": "execute_result"
    }
   ],
   "source": [
    "y_predict"
   ]
  },
  {
   "cell_type": "code",
   "execution_count": 48,
   "metadata": {},
   "outputs": [
    {
     "name": "stdout",
     "output_type": "stream",
     "text": [
      "note1= 0.051267 note2= 0.69956 r=[1.] \n",
      "note1= -0.092742 note2= 0.68494 r=[1.] \n",
      "note1= -0.21371 note2= 0.69225 r=[1.] \n",
      "note1= -0.375 note2= 0.50219 r=[1.] \n",
      "note1= -0.51325 note2= 0.46564 r=[1.] \n",
      "note1= -0.52477 note2= 0.2098 r=[1.] \n",
      "note1= -0.39804 note2= 0.034357 r=[1.] \n",
      "note1= -0.30588 note2= -0.19225 r=[1.] \n",
      "note1= 0.016705 note2= -0.40424 r=[1.] \n",
      "note1= 0.13191 note2= -0.51389 r=[1.] \n",
      "note1= 0.38537 note2= -0.56506 r=[1.] \n",
      "note1= 0.52938 note2= -0.5212 r=[1.] \n",
      "note1= 0.63882 note2= -0.24342 r=[1.] \n",
      "note1= 0.73675 note2= -0.18494 r=[0.] \n",
      "note1= 0.54666 note2= 0.48757 r=[1.] \n",
      "note1= 0.322 note2= 0.5826 r=[1.] \n",
      "note1= 0.16647 note2= 0.53874 r=[1.] \n",
      "note1= -0.046659 note2= 0.81652 r=[1.] \n",
      "note1= -0.17339 note2= 0.69956 r=[1.] \n",
      "note1= -0.47869 note2= 0.63377 r=[1.] \n",
      "note1= -0.60541 note2= 0.59722 r=[1.] \n",
      "note1= -0.62846 note2= 0.33406 r=[1.] \n",
      "note1= -0.59389 note2= 0.005117 r=[0.] \n",
      "note1= -0.42108 note2= -0.27266 r=[0.] \n",
      "note1= -0.11578 note2= -0.39693 r=[0.] \n",
      "note1= 0.20104 note2= -0.60161 r=[0.] \n",
      "note1= 0.46601 note2= -0.53582 r=[1.] \n",
      "note1= 0.67339 note2= -0.53582 r=[0.] \n",
      "note1= -0.13882 note2= 0.54605 r=[1.] \n",
      "note1= -0.29435 note2= 0.77997 r=[1.] \n",
      "note1= -0.26555 note2= 0.96272 r=[0.] \n",
      "note1= -0.16187 note2= 0.8019 r=[1.] \n",
      "note1= -0.17339 note2= 0.64839 r=[1.] \n",
      "note1= -0.28283 note2= 0.47295 r=[1.] \n",
      "note1= -0.36348 note2= 0.31213 r=[1.] \n",
      "note1= -0.30012 note2= 0.027047 r=[1.] \n",
      "note1= -0.23675 note2= -0.21418 r=[1.] \n",
      "note1= -0.06394 note2= -0.18494 r=[1.] \n",
      "note1= 0.062788 note2= -0.16301 r=[1.] \n",
      "note1= 0.22984 note2= -0.41155 r=[1.] \n",
      "note1= 0.2932 note2= -0.2288 r=[1.] \n",
      "note1= 0.48329 note2= -0.18494 r=[1.] \n",
      "note1= 0.64459 note2= -0.14108 r=[1.] \n",
      "note1= 0.46025 note2= 0.012427 r=[1.] \n",
      "note1= 0.6273 note2= 0.15863 r=[1.] \n",
      "note1= 0.57546 note2= 0.26827 r=[1.] \n",
      "note1= 0.72523 note2= 0.44371 r=[0.] \n",
      "note1= 0.22408 note2= 0.52412 r=[1.] \n",
      "note1= 0.44297 note2= 0.67032 r=[1.] \n",
      "note1= 0.322 note2= 0.69225 r=[1.] \n",
      "note1= 0.13767 note2= 0.57529 r=[1.] \n",
      "note1= -0.0063364 note2= 0.39985 r=[1.] \n",
      "note1= -0.092742 note2= 0.55336 r=[1.] \n",
      "note1= -0.20795 note2= 0.35599 r=[1.] \n",
      "note1= -0.20795 note2= 0.17325 r=[1.] \n",
      "note1= -0.43836 note2= 0.21711 r=[1.] \n",
      "note1= -0.21947 note2= -0.016813 r=[1.] \n",
      "note1= -0.13882 note2= -0.27266 r=[1.] \n",
      "note1= 0.18376 note2= 0.93348 r=[0.] \n",
      "note1= 0.22408 note2= 0.77997 r=[1.] \n",
      "note1= 0.29896 note2= 0.61915 r=[1.] \n",
      "note1= 0.50634 note2= 0.75804 r=[0.] \n",
      "note1= 0.61578 note2= 0.7288 r=[0.] \n",
      "note1= 0.60426 note2= 0.59722 r=[1.] \n",
      "note1= 0.76555 note2= 0.50219 r=[0.] \n",
      "note1= 0.92684 note2= 0.3633 r=[0.] \n",
      "note1= 0.82316 note2= 0.27558 r=[0.] \n",
      "note1= 0.96141 note2= 0.085526 r=[0.] \n",
      "note1= 0.93836 note2= 0.012427 r=[0.] \n",
      "note1= 0.86348 note2= -0.082602 r=[0.] \n",
      "note1= 0.89804 note2= -0.20687 r=[0.] \n",
      "note1= 0.85196 note2= -0.36769 r=[0.] \n",
      "note1= 0.82892 note2= -0.5212 r=[0.] \n",
      "note1= 0.79435 note2= -0.55775 r=[0.] \n",
      "note1= 0.59274 note2= -0.7405 r=[0.] \n",
      "note1= 0.51786 note2= -0.5943 r=[1.] \n",
      "note1= 0.46601 note2= -0.41886 r=[1.] \n",
      "note1= 0.35081 note2= -0.57968 r=[1.] \n",
      "note1= 0.28744 note2= -0.76974 r=[0.] \n",
      "note1= 0.085829 note2= -0.75512 r=[0.] \n",
      "note1= 0.14919 note2= -0.57968 r=[0.] \n",
      "note1= -0.13306 note2= -0.4481 r=[0.] \n",
      "note1= -0.40956 note2= -0.41155 r=[0.] \n",
      "note1= -0.39228 note2= -0.25804 r=[0.] \n",
      "note1= -0.74366 note2= -0.25804 r=[0.] \n",
      "note1= -0.69758 note2= 0.041667 r=[0.] \n",
      "note1= -0.75518 note2= 0.2902 r=[0.] \n",
      "note1= -0.69758 note2= 0.68494 r=[1.] \n",
      "note1= -0.4038 note2= 0.70687 r=[1.] \n",
      "note1= -0.38076 note2= 0.91886 r=[0.] \n",
      "note1= -0.50749 note2= 0.90424 r=[0.] \n",
      "note1= -0.54781 note2= 0.70687 r=[1.] \n",
      "note1= 0.10311 note2= 0.77997 r=[1.] \n",
      "note1= 0.057028 note2= 0.91886 r=[0.] \n",
      "note1= -0.10426 note2= 0.99196 r=[0.] \n",
      "note1= -0.081221 note2= 1.1089 r=[0.] \n",
      "note1= 0.28744 note2= 1.087 r=[0.] \n",
      "note1= 0.39689 note2= 0.82383 r=[0.] \n",
      "note1= 0.63882 note2= 0.88962 r=[0.] \n",
      "note1= 0.82316 note2= 0.66301 r=[0.] \n",
      "note1= 0.67339 note2= 0.64108 r=[0.] \n",
      "note1= 1.0709 note2= 0.10015 r=[0.] \n",
      "note1= -0.046659 note2= -0.57968 r=[0.] \n",
      "note1= -0.23675 note2= -0.63816 r=[0.] \n",
      "note1= -0.15035 note2= -0.36769 r=[0.] \n",
      "note1= -0.49021 note2= -0.3019 r=[0.] \n",
      "note1= -0.46717 note2= -0.13377 r=[0.] \n",
      "note1= -0.28859 note2= -0.060673 r=[1.] \n",
      "note1= -0.61118 note2= -0.067982 r=[0.] \n",
      "note1= -0.66302 note2= -0.21418 r=[0.] \n",
      "note1= -0.59965 note2= -0.41886 r=[0.] \n",
      "note1= -0.72638 note2= -0.082602 r=[0.] \n",
      "note1= -0.83007 note2= 0.31213 r=[0.] \n",
      "note1= -0.72062 note2= 0.53874 r=[1.] \n",
      "note1= -0.59389 note2= 0.49488 r=[1.] \n",
      "note1= -0.48445 note2= 0.99927 r=[0.] \n",
      "note1= -0.0063364 note2= 0.99927 r=[0.] \n",
      "note1= 0.63265 note2= -0.030612 r=[1.] \n"
     ]
    }
   ],
   "source": [
    "i=0\n",
    "for d in data[:,:2]:\n",
    "    print(f\"note1= {d[0]} note2= {d[1]} r={y_predict[i]} \")\n",
    "    i+=1"
   ]
  },
  {
   "cell_type": "markdown",
   "metadata": {
    "id": "c6rDYnXr2CIy"
   },
   "source": [
    "# Vérification de l'implementation\n",
    "Comparer vos algorithmes à ceux de scikitlearn"
   ]
  },
  {
   "cell_type": "code",
   "execution_count": 49,
   "metadata": {
    "colab": {
     "base_uri": "https://localhost:8080/"
    },
    "id": "lsa6MaAw2CIy",
    "outputId": "d511c112-b05a-49ca-fb3b-db1d18aebc08"
   },
   "outputs": [
    {
     "name": "stdout",
     "output_type": "stream",
     "text": [
      "10.04335854445352\n"
     ]
    }
   ],
   "source": [
    "import pandas as pd\n",
    "from sklearn.linear_model import Ridge\n",
    "from sklearn.model_selection import train_test_split, cross_val_score\n",
    "from statistics import mean\n",
    "#from sklearn.preprocessing import StandardScaler\n",
    "\n",
    "new_X = data[:,0:2]\n",
    "X_train, X_test, y_train, y_test = train_test_split(new_X, y, test_size = 0.25)\n",
    "\n",
    "ridgeModel = Ridge(alpha = 1)\n",
    "ridgeModel.fit(X_train, y_train)\n",
    "scores = cross_val_score(ridgeModel, new_X, y, cv = 10)#cross-validation\n",
    "precision = abs(mean(scores))*100\n",
    "print(precision)"
   ]
  },
  {
   "cell_type": "markdown",
   "metadata": {
    "id": "K9L2q6PQ2CIy"
   },
   "source": [
    "# Renforcement d'apprentissage\n",
    "Mettre ici toute idée qui pourrait renforcer votre apprentissage"
   ]
  },
  {
   "cell_type": "code",
   "execution_count": 50,
   "metadata": {
    "id": "cmDcNAoy2CIz"
   },
   "outputs": [],
   "source": [
    "def classifier(x):\n",
    "    x=float(x)\n",
    "    if(x>0.45):\n",
    "        x=1\n",
    "    else:\n",
    "        x=0\n",
    "    return x"
   ]
  },
  {
   "cell_type": "code",
   "execution_count": 51,
   "metadata": {},
   "outputs": [
    {
     "name": "stdout",
     "output_type": "stream",
     "text": [
      "1\n",
      "1\n",
      "1\n",
      "1\n",
      "0\n",
      "1\n"
     ]
    }
   ],
   "source": [
    "# belongs to the class one in the original data\n",
    "print(classifier(ridgeModel.predict([[-0.47869 ,   0.63377]])))\n",
    "print(classifier(ridgeModel.predict([[-0.21947 , -0.016813]])))\n",
    "print(classifier(ridgeModel.predict([[-0.13882  , -0.27266]])))\n",
    "# belongs to the class zero in the original data\n",
    "print(classifier(ridgeModel.predict([[-0.0063364, 0.99927]])))\n",
    "print(classifier(ridgeModel.predict([[0.28744 , -0.76974]])))\n",
    "print(classifier(ridgeModel.predict([[0.22408 ,  0.77997]])))\n"
   ]
  },
  {
   "cell_type": "code",
   "execution_count": 52,
   "metadata": {},
   "outputs": [
    {
     "name": "stdout",
     "output_type": "stream",
     "text": [
      "note1= 0.051267 note2= 0.69956 r= 1\n",
      "note1= -0.092742 note2= 0.68494 r= 1\n",
      "note1= -0.21371 note2= 0.69225 r= 1\n",
      "note1= -0.375 note2= 0.50219 r= 1\n",
      "note1= -0.51325 note2= 0.46564 r= 1\n",
      "note1= -0.52477 note2= 0.2098 r= 1\n",
      "note1= -0.39804 note2= 0.034357 r= 1\n",
      "note1= -0.30588 note2= -0.19225 r= 1\n",
      "note1= 0.016705 note2= -0.40424 r= 0\n",
      "note1= 0.13191 note2= -0.51389 r= 0\n",
      "note1= 0.38537 note2= -0.56506 r= 0\n",
      "note1= 0.52938 note2= -0.5212 r= 0\n",
      "note1= 0.63882 note2= -0.24342 r= 0\n",
      "note1= 0.73675 note2= -0.18494 r= 0\n",
      "note1= 0.54666 note2= 0.48757 r= 1\n",
      "note1= 0.322 note2= 0.5826 r= 1\n",
      "note1= 0.16647 note2= 0.53874 r= 1\n",
      "note1= -0.046659 note2= 0.81652 r= 1\n",
      "note1= -0.17339 note2= 0.69956 r= 1\n",
      "note1= -0.47869 note2= 0.63377 r= 1\n",
      "note1= -0.60541 note2= 0.59722 r= 1\n",
      "note1= -0.62846 note2= 0.33406 r= 1\n",
      "note1= -0.59389 note2= 0.005117 r= 1\n",
      "note1= -0.42108 note2= -0.27266 r= 1\n",
      "note1= -0.11578 note2= -0.39693 r= 0\n",
      "note1= 0.20104 note2= -0.60161 r= 0\n",
      "note1= 0.46601 note2= -0.53582 r= 0\n",
      "note1= 0.67339 note2= -0.53582 r= 0\n",
      "note1= -0.13882 note2= 0.54605 r= 1\n",
      "note1= -0.29435 note2= 0.77997 r= 1\n",
      "note1= -0.26555 note2= 0.96272 r= 1\n",
      "note1= -0.16187 note2= 0.8019 r= 1\n",
      "note1= -0.17339 note2= 0.64839 r= 1\n",
      "note1= -0.28283 note2= 0.47295 r= 1\n",
      "note1= -0.36348 note2= 0.31213 r= 1\n",
      "note1= -0.30012 note2= 0.027047 r= 1\n",
      "note1= -0.23675 note2= -0.21418 r= 1\n",
      "note1= -0.06394 note2= -0.18494 r= 1\n",
      "note1= 0.062788 note2= -0.16301 r= 1\n",
      "note1= 0.22984 note2= -0.41155 r= 0\n",
      "note1= 0.2932 note2= -0.2288 r= 0\n",
      "note1= 0.48329 note2= -0.18494 r= 0\n",
      "note1= 0.64459 note2= -0.14108 r= 0\n",
      "note1= 0.46025 note2= 0.012427 r= 1\n",
      "note1= 0.6273 note2= 0.15863 r= 1\n",
      "note1= 0.57546 note2= 0.26827 r= 1\n",
      "note1= 0.72523 note2= 0.44371 r= 1\n",
      "note1= 0.22408 note2= 0.52412 r= 1\n",
      "note1= 0.44297 note2= 0.67032 r= 1\n",
      "note1= 0.322 note2= 0.69225 r= 1\n",
      "note1= 0.13767 note2= 0.57529 r= 1\n",
      "note1= -0.0063364 note2= 0.39985 r= 1\n",
      "note1= -0.092742 note2= 0.55336 r= 1\n",
      "note1= -0.20795 note2= 0.35599 r= 1\n",
      "note1= -0.20795 note2= 0.17325 r= 1\n",
      "note1= -0.43836 note2= 0.21711 r= 1\n",
      "note1= -0.21947 note2= -0.016813 r= 1\n",
      "note1= -0.13882 note2= -0.27266 r= 1\n",
      "note1= 0.18376 note2= 0.93348 r= 1\n",
      "note1= 0.22408 note2= 0.77997 r= 1\n",
      "note1= 0.29896 note2= 0.61915 r= 1\n",
      "note1= 0.50634 note2= 0.75804 r= 1\n",
      "note1= 0.61578 note2= 0.7288 r= 1\n",
      "note1= 0.60426 note2= 0.59722 r= 1\n",
      "note1= 0.76555 note2= 0.50219 r= 1\n",
      "note1= 0.92684 note2= 0.3633 r= 1\n",
      "note1= 0.82316 note2= 0.27558 r= 1\n",
      "note1= 0.96141 note2= 0.085526 r= 0\n",
      "note1= 0.93836 note2= 0.012427 r= 0\n",
      "note1= 0.86348 note2= -0.082602 r= 0\n",
      "note1= 0.89804 note2= -0.20687 r= 0\n",
      "note1= 0.85196 note2= -0.36769 r= 0\n",
      "note1= 0.82892 note2= -0.5212 r= 0\n",
      "note1= 0.79435 note2= -0.55775 r= 0\n",
      "note1= 0.59274 note2= -0.7405 r= 0\n",
      "note1= 0.51786 note2= -0.5943 r= 0\n",
      "note1= 0.46601 note2= -0.41886 r= 0\n",
      "note1= 0.35081 note2= -0.57968 r= 0\n",
      "note1= 0.28744 note2= -0.76974 r= 0\n",
      "note1= 0.085829 note2= -0.75512 r= 0\n",
      "note1= 0.14919 note2= -0.57968 r= 0\n",
      "note1= -0.13306 note2= -0.4481 r= 0\n",
      "note1= -0.40956 note2= -0.41155 r= 1\n",
      "note1= -0.39228 note2= -0.25804 r= 1\n",
      "note1= -0.74366 note2= -0.25804 r= 1\n",
      "note1= -0.69758 note2= 0.041667 r= 1\n",
      "note1= -0.75518 note2= 0.2902 r= 1\n",
      "note1= -0.69758 note2= 0.68494 r= 1\n",
      "note1= -0.4038 note2= 0.70687 r= 1\n",
      "note1= -0.38076 note2= 0.91886 r= 1\n",
      "note1= -0.50749 note2= 0.90424 r= 1\n",
      "note1= -0.54781 note2= 0.70687 r= 1\n",
      "note1= 0.10311 note2= 0.77997 r= 1\n",
      "note1= 0.057028 note2= 0.91886 r= 1\n",
      "note1= -0.10426 note2= 0.99196 r= 1\n",
      "note1= -0.081221 note2= 1.1089 r= 1\n",
      "note1= 0.28744 note2= 1.087 r= 1\n",
      "note1= 0.39689 note2= 0.82383 r= 1\n",
      "note1= 0.63882 note2= 0.88962 r= 1\n",
      "note1= 0.82316 note2= 0.66301 r= 1\n",
      "note1= 0.67339 note2= 0.64108 r= 1\n",
      "note1= 1.0709 note2= 0.10015 r= 0\n",
      "note1= -0.046659 note2= -0.57968 r= 0\n",
      "note1= -0.23675 note2= -0.63816 r= 0\n",
      "note1= -0.15035 note2= -0.36769 r= 0\n",
      "note1= -0.49021 note2= -0.3019 r= 1\n",
      "note1= -0.46717 note2= -0.13377 r= 1\n",
      "note1= -0.28859 note2= -0.060673 r= 1\n",
      "note1= -0.61118 note2= -0.067982 r= 1\n",
      "note1= -0.66302 note2= -0.21418 r= 1\n",
      "note1= -0.59965 note2= -0.41886 r= 1\n",
      "note1= -0.72638 note2= -0.082602 r= 1\n",
      "note1= -0.83007 note2= 0.31213 r= 1\n",
      "note1= -0.72062 note2= 0.53874 r= 1\n",
      "note1= -0.59389 note2= 0.49488 r= 1\n",
      "note1= -0.48445 note2= 0.99927 r= 1\n",
      "note1= -0.0063364 note2= 0.99927 r= 1\n",
      "note1= 0.63265 note2= -0.030612 r= 0\n"
     ]
    }
   ],
   "source": [
    "for d in data[:,:2]:\n",
    "    print(f\"note1= {d[0]} note2= {d[1]} r= {classifier(ridgeModel.predict([[d[0],d[1]]]))}\")"
   ]
  },
  {
   "cell_type": "markdown",
   "metadata": {
    "id": "wI4DcIbt2CIz"
   },
   "source": [
    "# Consignes"
   ]
  },
  {
   "cell_type": "markdown",
   "metadata": {
    "id": "DOricxGm2CIz"
   },
   "source": [
    "Le travail est à remettre par groupe de 4 au maximum [1..4].\n",
    "\n",
    "Le délai est le vendredi 08 Avril 2022 à 22h\n"
   ]
  },
  {
   "cell_type": "code",
   "execution_count": 53,
   "metadata": {
    "id": "X6pONAh_2CIz"
   },
   "outputs": [],
   "source": [
    "# bonne chance"
   ]
  }
 ],
 "metadata": {
  "colab": {
   "name": "TP 4 regularisation.ipynb",
   "provenance": []
  },
  "kernelspec": {
   "display_name": "Python 3 (ipykernel)",
   "language": "python",
   "name": "python3"
  },
  "language_info": {
   "codemirror_mode": {
    "name": "ipython",
    "version": 3
   },
   "file_extension": ".py",
   "mimetype": "text/x-python",
   "name": "python",
   "nbconvert_exporter": "python",
   "pygments_lexer": "ipython3",
   "version": "3.9.7"
  }
 },
 "nbformat": 4,
 "nbformat_minor": 1
}
