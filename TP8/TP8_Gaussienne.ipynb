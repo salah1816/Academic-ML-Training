{
 "cells": [
  {
   "cell_type": "markdown",
   "metadata": {
    "id": "RGMmQ4R1zsXK"
   },
   "source": [
    "# TP 8 Distribution Gaussienne\n",
    "Dans ce TP, nous aimerions explorer le classifieur base sur les distributions gaussiennnes pour une classification binaire.\n",
    "\n"
   ]
  },
  {
   "cell_type": "markdown",
   "metadata": {
    "id": "bDpxocMFzsXP"
   },
   "source": [
    "# Importation des librairies necessaires au travail"
   ]
  },
  {
   "cell_type": "code",
   "execution_count": 1,
   "metadata": {
    "id": "tY3mqEITzsXT"
   },
   "outputs": [],
   "source": [
    "import numpy as np\n",
    "import matplotlib.pyplot as plt\n",
    "from numpy import random\n",
    "from sklearn.metrics import f1_score"
   ]
  },
  {
   "cell_type": "code",
   "execution_count": 2,
   "metadata": {
    "id": "4p8GyfdQatRw"
   },
   "outputs": [],
   "source": [
    "from matplotlib import cm\n",
    "from mpl_toolkits.mplot3d import Axes3D"
   ]
  },
  {
   "cell_type": "markdown",
   "metadata": {
    "id": "KCMUTWfpzsXY"
   },
   "source": [
    "# Lecture des fichiers de données\n",
    "Pour ce TP, nous allons lire les données à partir d'un fichier csv."
   ]
  },
  {
   "cell_type": "code",
   "execution_count": 3,
   "metadata": {
    "colab": {
     "base_uri": "https://localhost:8080/"
    },
    "id": "M0DPNJGfzsXa",
    "outputId": "f944fd06-82d4-4747-88f5-d37e70b6ea99"
   },
   "outputs": [
    {
     "data": {
      "text/plain": [
       "(307, 2)"
      ]
     },
     "execution_count": 3,
     "metadata": {},
     "output_type": "execute_result"
    }
   ],
   "source": [
    "# données\n",
    "X = np.genfromtxt('X.csv', delimiter=',', dtype=float)\n",
    "X.shape"
   ]
  },
  {
   "cell_type": "code",
   "execution_count": 4,
   "metadata": {
    "colab": {
     "base_uri": "https://localhost:8080/"
    },
    "id": "eNFm-2At1Rg4",
    "outputId": "f8ac9482-5212-47c1-b309-f8c62dc7d2db"
   },
   "outputs": [
    {
     "data": {
      "text/plain": [
       "(307, 2)"
      ]
     },
     "execution_count": 4,
     "metadata": {},
     "output_type": "execute_result"
    }
   ],
   "source": [
    "X1 = np.genfromtxt('Xval.csv', delimiter=',', dtype=float)\n",
    "X1.shape"
   ]
  },
  {
   "cell_type": "code",
   "execution_count": 5,
   "metadata": {
    "colab": {
     "base_uri": "https://localhost:8080/"
    },
    "id": "lQh_mhEl1pqU",
    "outputId": "69761851-bc70-48a1-b409-b4e4b37ed48c"
   },
   "outputs": [
    {
     "data": {
      "text/plain": [
       "(307,)"
      ]
     },
     "execution_count": 5,
     "metadata": {},
     "output_type": "execute_result"
    }
   ],
   "source": [
    "y = np.genfromtxt('yval.csv', delimiter=',', dtype=float)\n",
    "y.shape\n"
   ]
  },
  {
   "cell_type": "code",
   "execution_count": 6,
   "metadata": {
    "colab": {
     "base_uri": "https://localhost:8080/"
    },
    "id": "8v3fi18a166x",
    "outputId": "102700bc-3250-49a9-cbfa-35119bd1f346"
   },
   "outputs": [
    {
     "data": {
      "text/plain": [
       "(307, 1)"
      ]
     },
     "execution_count": 6,
     "metadata": {},
     "output_type": "execute_result"
    }
   ],
   "source": [
    "y = y.reshape(y.shape[0],1)\n",
    "y.shape"
   ]
  },
  {
   "cell_type": "markdown",
   "metadata": {
    "id": "BkwayUKXzsXd"
   },
   "source": [
    "Dans ces données (data), les 2 premières colonnes representent les caracteristiques de l'ensemble d'entrainement.\n",
    "\n",
    "Chaque ligne represente un exemple de notre ensemble de données. \n"
   ]
  },
  {
   "cell_type": "markdown",
   "metadata": {
    "id": "Fng1mGHIzsXl"
   },
   "source": [
    "# Entrainement \n",
    "dans cette partie nous allons calculer les parametres de la disribution gaussienne de chaque caracteristique."
   ]
  },
  {
   "cell_type": "code",
   "execution_count": 7,
   "metadata": {
    "colab": {
     "base_uri": "https://localhost:8080/",
     "height": 284
    },
    "id": "zP6MGRvtzsXm",
    "outputId": "d5674a41-1463-46e0-951f-654ad3792429"
   },
   "outputs": [
    {
     "data": {
      "text/plain": [
       "<matplotlib.collections.PathCollection at 0x165a81dba90>"
      ]
     },
     "execution_count": 7,
     "metadata": {},
     "output_type": "execute_result"
    },
    {
     "data": {
      "image/png": "[encoded data removed]",
      "text/plain": [
       "<Figure size 432x288 with 1 Axes>"
      ]
     },
     "metadata": {
      "needs_background": "light"
     },
     "output_type": "display_data"
    }
   ],
   "source": [
    "plt.scatter(X[:,0],X[:,1], marker ='x')\n",
    "plt.scatter(X1[:,0],X1[:,1], marker ='o')"
   ]
  },
  {
   "cell_type": "markdown",
   "metadata": {
    "id": "P34bOn1RzsXp"
   },
   "source": [
    "Mettons un lien avec ce que nous avons appris en regression linéaire"
   ]
  },
  {
   "cell_type": "code",
   "execution_count": 8,
   "metadata": {
    "id": "Wo5KrxdpFjb-"
   },
   "outputs": [],
   "source": [
    "def mean_var(X):\n",
    "    return np.mean(X, axis=0), np.var(X, axis=0)"
   ]
  },
  {
   "cell_type": "code",
   "execution_count": 9,
   "metadata": {
    "id": "0Eb_mQg2Sffs"
   },
   "outputs": [],
   "source": [
    "m,v = mean_var(X)"
   ]
  },
  {
   "cell_type": "code",
   "execution_count": 10,
   "metadata": {
    "colab": {
     "base_uri": "https://localhost:8080/"
    },
    "id": "YpTMnys6ES5U",
    "outputId": "c990a579-fc04-47df-b726-99367c575723"
   },
   "outputs": [
    {
     "data": {
      "text/plain": [
       "array([14.11225277, 14.99767459])"
      ]
     },
     "execution_count": 10,
     "metadata": {},
     "output_type": "execute_result"
    }
   ],
   "source": [
    "m"
   ]
  },
  {
   "cell_type": "code",
   "execution_count": 11,
   "metadata": {
    "colab": {
     "base_uri": "https://localhost:8080/"
    },
    "id": "q0cTXaGSEUEX",
    "outputId": "42b18409-895d-4fa6-8c46-225ff4b0ba7b"
   },
   "outputs": [
    {
     "data": {
      "text/plain": [
       "array([1.8326777 , 1.70971534])"
      ]
     },
     "execution_count": 11,
     "metadata": {},
     "output_type": "execute_result"
    }
   ],
   "source": [
    "v"
   ]
  },
  {
   "cell_type": "code",
   "execution_count": 12,
   "metadata": {
    "id": "YII0TVbrSfft"
   },
   "outputs": [],
   "source": [
    "def calculProba(X,m,v):\n",
    "    return (1 / (np.sqrt(2 * v * np.pi))) * np.exp(- np.power(X - m, 2) / (2 * v))"
   ]
  },
  {
   "cell_type": "code",
   "execution_count": 13,
   "metadata": {
    "id": "S3p9rTUm1dtx"
   },
   "outputs": [],
   "source": [
    "prob = calculProba(X, m, v)"
   ]
  },
  {
   "cell_type": "code",
   "execution_count": 14,
   "metadata": {
    "colab": {
     "base_uri": "https://localhost:8080/",
     "height": 283
    },
    "id": "XyirSoWgSffv",
    "outputId": "2599eec0-0426-40ae-9ee4-485264bd36d0",
    "scrolled": true
   },
   "outputs": [
    {
     "data": {
      "text/plain": [
       "<matplotlib.collections.PathCollection at 0x165a897b940>"
      ]
     },
     "execution_count": 14,
     "metadata": {},
     "output_type": "execute_result"
    },
    {
     "data": {
      "image/png": "[encoded data removed]",
      "text/plain": [
       "<Figure size 432x288 with 1 Axes>"
      ]
     },
     "metadata": {
      "needs_background": "light"
     },
     "output_type": "display_data"
    }
   ],
   "source": [
    "plt.scatter(X[:,0],prob[:,0])"
   ]
  },
  {
   "cell_type": "code",
   "execution_count": 15,
   "metadata": {
    "colab": {
     "base_uri": "https://localhost:8080/",
     "height": 283
    },
    "id": "UMSoaZAeSffv",
    "outputId": "974f388f-748f-4e25-b94b-129b5a11adfc",
    "scrolled": false
   },
   "outputs": [
    {
     "data": {
      "text/plain": [
       "<matplotlib.collections.PathCollection at 0x165a89f16d0>"
      ]
     },
     "execution_count": 15,
     "metadata": {},
     "output_type": "execute_result"
    },
    {
     "data": {
      "image/png": "[encoded data removed]",
      "text/plain": [
       "<Figure size 432x288 with 1 Axes>"
      ]
     },
     "metadata": {
      "needs_background": "light"
     },
     "output_type": "display_data"
    }
   ],
   "source": [
    "plt.scatter(X[:,1],prob[:,1])"
   ]
  },
  {
   "cell_type": "code",
   "execution_count": 16,
   "metadata": {
    "id": "x-Jn-tZ9GIrg"
   },
   "outputs": [],
   "source": [
    "def calcul_proba(X, m, v):\n",
    "    proba = calculProba(X, m, v)\n",
    "    return proba[:,0]*proba[:,1]"
   ]
  },
  {
   "cell_type": "code",
   "execution_count": 17,
   "metadata": {
    "id": "HF5jXvpUSffv"
   },
   "outputs": [],
   "source": [
    "\n",
    "\n",
    "yproba = calcul_proba(X, m, v)\n"
   ]
  },
  {
   "cell_type": "markdown",
   "metadata": {
    "id": "cjyCQkqVHJhN"
   },
   "source": [
    "# **Partie 1: Reglage de Paramètre Epsilon**"
   ]
  },
  {
   "cell_type": "code",
   "execution_count": 18,
   "metadata": {
    "id": "PgaLEMV_Gtan"
   },
   "outputs": [],
   "source": [
    "def calcul_epsilon_f1score(y_proba, y, min, max, step):\n",
    "    f1_scores = []\n",
    "    for epsilon in np.arange(min, max, step):\n",
    "        y_pred = np.ones(y_proba.shape)\n",
    "        y_pred[y_proba >= epsilon] = 0\n",
    "        f1_scores.append((epsilon, f1_score(y, y_pred)))\n",
    "    return np.array(f1_scores)"
   ]
  },
  {
   "cell_type": "code",
   "execution_count": 19,
   "metadata": {
    "id": "JqtQPsWW237H"
   },
   "outputs": [],
   "source": [
    "f1 = calcul_epsilon_f1score(yproba, y, 0, 1, 0.0001)"
   ]
  },
  {
   "cell_type": "code",
   "execution_count": 20,
   "metadata": {
    "colab": {
     "base_uri": "https://localhost:8080/"
    },
    "id": "XfVxvqR63Bts",
    "outputId": "698b5411-2106-42e7-b145-05799fcb29cb"
   },
   "outputs": [
    {
     "data": {
      "text/plain": [
       "(10000, 2)"
      ]
     },
     "execution_count": 20,
     "metadata": {},
     "output_type": "execute_result"
    }
   ],
   "source": [
    "f1.shape"
   ]
  },
  {
   "cell_type": "code",
   "execution_count": 21,
   "metadata": {
    "id": "oGOYbN8tHijO"
   },
   "outputs": [],
   "source": [
    "def plot_epsilon_f1(f1):\n",
    "    fig = plt.figure()\n",
    "    plt.plot(f1[:,0],f1[:,1])\n",
    "    plt.show()"
   ]
  },
  {
   "cell_type": "code",
   "execution_count": 22,
   "metadata": {
    "colab": {
     "base_uri": "https://localhost:8080/",
     "height": 265
    },
    "id": "PVtu5rqJ2w-s",
    "outputId": "e030c031-eb83-48bb-b6bf-a32ef3fba5fb"
   },
   "outputs": [
    {
     "data": {
      "image/png": "[encoded data removed]",
      "text/plain": [
       "<Figure size 432x288 with 1 Axes>"
      ]
     },
     "metadata": {
      "needs_background": "light"
     },
     "output_type": "display_data"
    }
   ],
   "source": [
    "plot_epsilon_f1(f1)"
   ]
  },
  {
   "cell_type": "markdown",
   "metadata": {
    "id": "BDrgmIZPHZwO"
   },
   "source": [
    "**Concetré sur [0, 0.08] et minimiser step**"
   ]
  },
  {
   "cell_type": "code",
   "execution_count": 23,
   "metadata": {
    "id": "32LE_Qk35ZBI"
   },
   "outputs": [],
   "source": [
    "f1 = calcul_epsilon_f1score(yproba, y, 0, 0.08, 0.00001)"
   ]
  },
  {
   "cell_type": "code",
   "execution_count": 24,
   "metadata": {
    "colab": {
     "base_uri": "https://localhost:8080/"
    },
    "id": "pREt5_pk5ZBV",
    "outputId": "32a69db7-7b5d-4ca1-b1c7-1425c0ee6354"
   },
   "outputs": [
    {
     "data": {
      "text/plain": [
       "(8000, 2)"
      ]
     },
     "execution_count": 24,
     "metadata": {},
     "output_type": "execute_result"
    }
   ],
   "source": [
    "f1.shape"
   ]
  },
  {
   "cell_type": "code",
   "execution_count": 25,
   "metadata": {
    "colab": {
     "base_uri": "https://localhost:8080/",
     "height": 265
    },
    "id": "-1l0x5Qn5edW",
    "outputId": "c9dcb0e1-ba74-4395-d618-d686d31379df"
   },
   "outputs": [
    {
     "data": {
      "image/png": "[encoded data removed]",
      "text/plain": [
       "<Figure size 432x288 with 1 Axes>"
      ]
     },
     "metadata": {
      "needs_background": "light"
     },
     "output_type": "display_data"
    }
   ],
   "source": [
    "plot_epsilon_f1(f1)"
   ]
  },
  {
   "cell_type": "code",
   "execution_count": 26,
   "metadata": {
    "id": "akYOAuxpH7mI"
   },
   "outputs": [],
   "source": [
    "def max_eps(f1):\n",
    "    return f1[f1.argmax(axis=0)[1],:]"
   ]
  },
  {
   "cell_type": "markdown",
   "metadata": {
    "id": "0hD8mOKqHxFt"
   },
   "source": [
    "**Meilleur valeur pour Epsilon c'est:**\n"
   ]
  },
  {
   "cell_type": "code",
   "execution_count": 27,
   "metadata": {
    "colab": {
     "base_uri": "https://localhost:8080/"
    },
    "id": "gMu6z3HM5tOx",
    "outputId": "fb655723-edf5-45e5-9e71-4f084ad8c478"
   },
   "outputs": [
    {
     "data": {
      "text/plain": [
       "array([7.e-05, 8.e-01])"
      ]
     },
     "execution_count": 27,
     "metadata": {},
     "output_type": "execute_result"
    }
   ],
   "source": [
    "e = max_eps(f1)\n",
    "e"
   ]
  },
  {
   "cell_type": "markdown",
   "metadata": {
    "id": "TUKkP357Hvd_"
   },
   "source": []
  },
  {
   "cell_type": "code",
   "execution_count": 28,
   "metadata": {
    "id": "-B99LkpK9gCg"
   },
   "outputs": [],
   "source": [
    "e = e[0]"
   ]
  },
  {
   "cell_type": "code",
   "execution_count": 29,
   "metadata": {
    "id": "RYU5crnO7rFX"
   },
   "outputs": [],
   "source": [
    "def predict(x, m, v, eps):\n",
    "    proba = calculProba(x, m, v)\n",
    "\n",
    "    yproba = proba[0]*proba[1]\n",
    "\n",
    "    return 1 if yproba < eps else 0\n"
   ]
  },
  {
   "cell_type": "code",
   "execution_count": 30,
   "metadata": {
    "id": "Za3rfMVD8Ws7"
   },
   "outputs": [],
   "source": [
    "y_pred = []\n",
    "for x in X:\n",
    "    y_pred.append(predict(x, m, v, e))\n",
    "\n"
   ]
  },
  {
   "cell_type": "markdown",
   "metadata": {
    "id": "Y-MM-YqNLO2x"
   },
   "source": [
    "**F1Score de gaussianne univarié**"
   ]
  },
  {
   "cell_type": "code",
   "execution_count": 31,
   "metadata": {
    "colab": {
     "base_uri": "https://localhost:8080/"
    },
    "id": "YC0FX17B9mua",
    "outputId": "abae9035-1139-4644-99d7-391df685f656"
   },
   "outputs": [
    {
     "data": {
      "text/plain": [
       "0.8"
      ]
     },
     "execution_count": 31,
     "metadata": {},
     "output_type": "execute_result"
    }
   ],
   "source": [
    "f1_score(y, y_pred)"
   ]
  },
  {
   "cell_type": "markdown",
   "metadata": {
    "id": "CXmBYYZiIDAt"
   },
   "source": [
    "# **Gaussienne Multivariée**"
   ]
  },
  {
   "cell_type": "markdown",
   "metadata": {
    "id": "Jq2fJ2VDLL7o"
   },
   "source": [
    "**Matrice de covariance**"
   ]
  },
  {
   "cell_type": "code",
   "execution_count": 32,
   "metadata": {
    "id": "zHYubz6sEPw5"
   },
   "outputs": [],
   "source": [
    "# Covariance\n",
    "def cov_m(x, y):\n",
    "    xbar, ybar = x.mean(), y.mean()\n",
    "    return np.sum((x - xbar)*(y - ybar))/(len(x) - 1)\n",
    "\n",
    "\n",
    "\n"
   ]
  },
  {
   "cell_type": "code",
   "execution_count": 33,
   "metadata": {
    "id": "40K8cBzGskO4"
   },
   "outputs": [],
   "source": [
    "# Covariance matrix\n",
    "def cov_mat(X):\n",
    "    return np.array([[cov_m(X[0], X[0]), cov_m(X[0], X[1])], \\\n",
    "                     [cov_m(X[1], X[0]), cov_m(X[1], X[1])]])"
   ]
  },
  {
   "cell_type": "code",
   "execution_count": 34,
   "metadata": {
    "colab": {
     "base_uri": "https://localhost:8080/"
    },
    "id": "q-S14IyqsmhZ",
    "outputId": "c982366c-f60e-47b6-c452-4e6362e28c6f"
   },
   "outputs": [
    {
     "data": {
      "text/plain": [
       "array([[ 1.83866684, -0.22783493],\n",
       "       [-0.22783493,  1.71530264]])"
      ]
     },
     "execution_count": 34,
     "metadata": {},
     "output_type": "execute_result"
    }
   ],
   "source": [
    "# Calculate covariance matrix \n",
    "cov_mat(X.T) # (or with np.cov(X.T))"
   ]
  },
  {
   "cell_type": "code",
   "execution_count": 35,
   "metadata": {
    "id": "GSI25-gCEyCc"
   },
   "outputs": [],
   "source": [
    "def gauss_multiple(x, cov, n, m):\n",
    "  \n",
    "  \n",
    "    p1 = 1/(np.power(2*np.pi,n/2)*np.sqrt(np.linalg.det(cov)))\n",
    "    p20 = np.transpose(x-m)\n",
    "\n",
    "    p21 = np.linalg.inv(cov)\n",
    "\n",
    "    p22 = x-m\n",
    "\n",
    "    p2 = np.exp(-0.5*(p20.dot(p21).dot(p22)))\n",
    "    return p1*p2"
   ]
  },
  {
   "cell_type": "code",
   "execution_count": 36,
   "metadata": {
    "id": "rgxVHErPJwKw"
   },
   "outputs": [],
   "source": [
    "cov = cov_mat(X.T)\n",
    "n = X.shape[1]"
   ]
  },
  {
   "cell_type": "code",
   "execution_count": 37,
   "metadata": {
    "id": "fwPuJijXGn82"
   },
   "outputs": [],
   "source": [
    "y_proba = [gauss_multiple(X[i,:], cov , n, m) for i in range(X.shape[0])]\n"
   ]
  },
  {
   "cell_type": "code",
   "execution_count": 38,
   "metadata": {
    "id": "IZ2dv_1EIlFP"
   },
   "outputs": [],
   "source": [
    "y_proba = np.array(y_proba)"
   ]
  },
  {
   "cell_type": "markdown",
   "metadata": {
    "id": "SkfGBev-IMOH"
   },
   "source": [
    "**Réglage de parametres Epsilon**"
   ]
  },
  {
   "cell_type": "code",
   "execution_count": 39,
   "metadata": {
    "id": "87972Js_LJSQ"
   },
   "outputs": [],
   "source": [
    "f1 = calcul_epsilon_f1score(y_proba, y, 0, 1, 0.0001)"
   ]
  },
  {
   "cell_type": "markdown",
   "metadata": {
    "id": "1hXt_y8QI1tY"
   },
   "source": []
  },
  {
   "cell_type": "code",
   "execution_count": 40,
   "metadata": {
    "colab": {
     "base_uri": "https://localhost:8080/",
     "height": 265
    },
    "id": "l-Bio42bLfnT",
    "outputId": "02cb2d5b-bf62-41d1-f7e5-4bd06559e99e"
   },
   "outputs": [
    {
     "data": {
      "image/png": "[encoded data removed]",
      "text/plain": [
       "<Figure size 432x288 with 1 Axes>"
      ]
     },
     "metadata": {
      "needs_background": "light"
     },
     "output_type": "display_data"
    }
   ],
   "source": [
    "plot_epsilon_f1(f1)"
   ]
  },
  {
   "cell_type": "code",
   "execution_count": 41,
   "metadata": {
    "id": "kG1Y_SCAMKxM"
   },
   "outputs": [],
   "source": [
    "f1 = calcul_epsilon_f1score(y_proba, y, 0, 0.08, 0.00001)"
   ]
  },
  {
   "cell_type": "code",
   "execution_count": 42,
   "metadata": {
    "colab": {
     "base_uri": "https://localhost:8080/",
     "height": 265
    },
    "id": "YpL7rNV5JMIr",
    "outputId": "9f05cd12-f867-468d-ef4b-6f5feeef36a0"
   },
   "outputs": [
    {
     "data": {
      "image/png": "[encoded data removed]",
      "text/plain": [
       "<Figure size 432x288 with 1 Axes>"
      ]
     },
     "metadata": {
      "needs_background": "light"
     },
     "output_type": "display_data"
    }
   ],
   "source": [
    "plot_epsilon_f1(f1)"
   ]
  },
  {
   "cell_type": "markdown",
   "metadata": {
    "id": "nnkNs6mcISCh"
   },
   "source": [
    "**Meilleur valeur pour Epsilon c'est:**"
   ]
  },
  {
   "cell_type": "code",
   "execution_count": 43,
   "metadata": {
    "colab": {
     "base_uri": "https://localhost:8080/"
    },
    "id": "GfuZUuVtMe_q",
    "outputId": "c244b2f8-bf7c-4515-ec05-95af313739e7"
   },
   "outputs": [
    {
     "data": {
      "text/plain": [
       "array([3.e-05, 8.e-01])"
      ]
     },
     "execution_count": 43,
     "metadata": {},
     "output_type": "execute_result"
    }
   ],
   "source": [
    "e = max_eps(f1)\n",
    "e"
   ]
  },
  {
   "cell_type": "code",
   "execution_count": 44,
   "metadata": {
    "id": "duZZJ4jCMfAJ"
   },
   "outputs": [],
   "source": [
    "e = e[0]\n"
   ]
  },
  {
   "cell_type": "code",
   "execution_count": 45,
   "metadata": {
    "colab": {
     "base_uri": "https://localhost:8080/"
    },
    "id": "AnE-YzfCNT1D",
    "outputId": "5cd223bf-91c5-40a1-f163-6f64e1f20553"
   },
   "outputs": [
    {
     "data": {
      "text/plain": [
       "3.0000000000000004e-05"
      ]
     },
     "execution_count": 45,
     "metadata": {},
     "output_type": "execute_result"
    }
   ],
   "source": [
    "e"
   ]
  },
  {
   "cell_type": "code",
   "execution_count": 46,
   "metadata": {
    "id": "_NcP4PMbMfAJ"
   },
   "outputs": [],
   "source": [
    "def predict(y_proba, eps):\n",
    "\n",
    "    return 1 if y_proba < eps else 0\n"
   ]
  },
  {
   "cell_type": "code",
   "execution_count": 47,
   "metadata": {
    "id": "Mhg-f_bUITQz"
   },
   "outputs": [],
   "source": [
    "y_predict = [predict(i, e) for i in y_proba]"
   ]
  },
  {
   "cell_type": "code",
   "execution_count": 48,
   "metadata": {
    "colab": {
     "base_uri": "https://localhost:8080/"
    },
    "id": "NJOPnTVnKPF-",
    "outputId": "ab16a0bf-db87-42d1-b905-f881247a310d"
   },
   "outputs": [
    {
     "data": {
      "text/plain": [
       "[0, 0, 0, 0, 0]"
      ]
     },
     "execution_count": 48,
     "metadata": {},
     "output_type": "execute_result"
    }
   ],
   "source": [
    "y_predict[:5]"
   ]
  },
  {
   "cell_type": "markdown",
   "metadata": {
    "id": "j9AQ1rv_Ia89"
   },
   "source": [
    "**F1Score pour gaussienne multivariée c'est**"
   ]
  },
  {
   "cell_type": "code",
   "execution_count": 49,
   "metadata": {
    "colab": {
     "base_uri": "https://localhost:8080/"
    },
    "id": "QCUZzmpDKzFQ",
    "outputId": "b5189d6a-cf61-4d1a-c725-b2c75244af76"
   },
   "outputs": [
    {
     "data": {
      "text/plain": [
       "0.8"
      ]
     },
     "execution_count": 49,
     "metadata": {},
     "output_type": "execute_result"
    }
   ],
   "source": [
    "f1_score(y, y_predict)"
   ]
  },
  {
   "cell_type": "markdown",
   "metadata": {
    "id": "StWp0vTFIfsD"
   },
   "source": [
    "**On remarque le F1Score pour gaussienne univarié et gaussienne multivariée sont le meme**"
   ]
  },
  {
   "cell_type": "code",
   "execution_count": null,
   "metadata": {
    "id": "ss0g7BZOY45K"
   },
   "outputs": [],
   "source": []
  },
  {
   "cell_type": "markdown",
   "metadata": {
    "id": "MqbtEnCFIo3x"
   },
   "source": [
    "# ***Visualisation en 3D***"
   ]
  },
  {
   "cell_type": "markdown",
   "metadata": {
    "id": "ZVPjSRjtI4-h"
   },
   "source": [
    "**Génération des données**"
   ]
  },
  {
   "cell_type": "code",
   "execution_count": 50,
   "metadata": {
    "id": "jyZTotziY5OO"
   },
   "outputs": [],
   "source": [
    "x_min, x_max = X[:, 0].min() - 1, X[:, 0].max() + 1\n",
    "y_min, y_max = X[:, 1].min() - 1, X[:, 1].max() + 1\n",
    "  \n",
    "\n",
    "xx_train, yy_train = np.meshgrid(np.arange(x_min, x_max, 0.1),\n",
    "                                 np.arange(y_min, y_max, 0.1))\n"
   ]
  },
  {
   "cell_type": "code",
   "execution_count": 51,
   "metadata": {
    "colab": {
     "base_uri": "https://localhost:8080/"
    },
    "id": "jMvqJ7yzZT5l",
    "outputId": "200d390d-f4e7-4ff1-c0d1-32264c488007"
   },
   "outputs": [
    {
     "data": {
      "text/plain": [
       "(223, 206)"
      ]
     },
     "execution_count": 51,
     "metadata": {},
     "output_type": "execute_result"
    }
   ],
   "source": [
    "xx_train.shape"
   ]
  },
  {
   "cell_type": "code",
   "execution_count": 52,
   "metadata": {
    "id": "mY8zbcZxZFst"
   },
   "outputs": [],
   "source": [
    "XX = np.c_[xx_train.ravel(), yy_train.ravel()]"
   ]
  },
  {
   "cell_type": "code",
   "execution_count": 53,
   "metadata": {
    "colab": {
     "base_uri": "https://localhost:8080/"
    },
    "id": "gAq1gBCvZPji",
    "outputId": "f6d801df-c8d8-4ee8-d358-c4573581c25f"
   },
   "outputs": [
    {
     "data": {
      "text/plain": [
       "(45938, 2)"
      ]
     },
     "execution_count": 53,
     "metadata": {},
     "output_type": "execute_result"
    }
   ],
   "source": [
    "XX.shape"
   ]
  },
  {
   "cell_type": "code",
   "execution_count": 54,
   "metadata": {
    "id": "iAwOAmt-aNiW"
   },
   "outputs": [],
   "source": [
    "m,v = mean_var(XX)"
   ]
  },
  {
   "cell_type": "markdown",
   "metadata": {
    "id": "QN6jj70PJAxy"
   },
   "source": [
    "**Gaussienne Univarié**"
   ]
  },
  {
   "cell_type": "code",
   "execution_count": 55,
   "metadata": {
    "id": "VCaWoRLrbdrv"
   },
   "outputs": [],
   "source": [
    "\n",
    "z_proba = calcul_proba(XX, m, v)"
   ]
  },
  {
   "cell_type": "code",
   "execution_count": 56,
   "metadata": {
    "id": "9WTmYUe-blXF"
   },
   "outputs": [],
   "source": [
    "z = np.array(z_proba).reshape(xx_train.shape)"
   ]
  },
  {
   "cell_type": "code",
   "execution_count": 58,
   "metadata": {},
   "outputs": [],
   "source": [
    "def plot_3d(x,y,z):\n",
    "    fig = plt.figure(figsize=(12, 6))\n",
    "    ax = fig.gca(projection='3d')\n",
    "    ax.plot_surface(x, y, z, cmap=cm.coolwarm,linewidth=0, antialiased=True)\n",
    "    ax.set_xlabel('x')\n",
    "    ax.set_ylabel('y')\n",
    "    ax.set_zlabel('z');\n",
    "    plt.show()"
   ]
  },
  {
   "cell_type": "code",
   "execution_count": 59,
   "metadata": {
    "colab": {
     "base_uri": "https://localhost:8080/",
     "height": 357
    },
    "id": "X0OVk5sFLHdi",
    "outputId": "7f6a0e23-f895-43a2-b517-ef55c50d6a95"
   },
   "outputs": [
    {
     "name": "stderr",
     "output_type": "stream",
     "text": [
      "C:\\Users\\DELL\\AppData\\Local\\Temp/ipykernel_5496/2480883261.py:3: MatplotlibDeprecationWarning: Calling gca() with keyword arguments was deprecated in Matplotlib 3.4. Starting two minor releases later, gca() will take no keyword arguments. The gca() function should only be used to get the current axes, or if no axes exist, create new axes with default keyword arguments. To create a new axes with non-default arguments, use plt.axes() or plt.subplot().\n",
      "  ax = fig.gca(projection='3d')\n"
     ]
    },
    {
     "data": {
      "image/png": "[encoded data removed]",
      "text/plain": [
       "<Figure size 864x432 with 1 Axes>"
      ]
     },
     "metadata": {
      "needs_background": "light"
     },
     "output_type": "display_data"
    }
   ],
   "source": [
    "plot_3d(xx_train, yy_train, z)"
   ]
  },
  {
   "cell_type": "code",
   "execution_count": null,
   "metadata": {
    "id": "4tbWQ0D4LP62"
   },
   "outputs": [],
   "source": []
  },
  {
   "cell_type": "markdown",
   "metadata": {
    "id": "fnI6ToTgJHdk"
   },
   "source": [
    "**Gaussienne Multiple**"
   ]
  },
  {
   "cell_type": "code",
   "execution_count": 60,
   "metadata": {
    "id": "2CwCXuM6Zr0H"
   },
   "outputs": [],
   "source": [
    "z_proba = [gauss_multiple(XX[i,:], cov , n, m) for i in range(XX.shape[0])]\n"
   ]
  },
  {
   "cell_type": "code",
   "execution_count": 61,
   "metadata": {
    "id": "eyhqhSaZa4Xl"
   },
   "outputs": [],
   "source": [
    "z = np.array(z_proba).reshape(xx_train.shape)"
   ]
  },
  {
   "cell_type": "code",
   "execution_count": 62,
   "metadata": {
    "colab": {
     "base_uri": "https://localhost:8080/",
     "height": 357
    },
    "id": "qVGNfYi9ZsIQ",
    "outputId": "acad7219-e8fc-4274-a086-9d141bc91604"
   },
   "outputs": [
    {
     "name": "stderr",
     "output_type": "stream",
     "text": [
      "C:\\Users\\DELL\\AppData\\Local\\Temp/ipykernel_5496/2480883261.py:3: MatplotlibDeprecationWarning: Calling gca() with keyword arguments was deprecated in Matplotlib 3.4. Starting two minor releases later, gca() will take no keyword arguments. The gca() function should only be used to get the current axes, or if no axes exist, create new axes with default keyword arguments. To create a new axes with non-default arguments, use plt.axes() or plt.subplot().\n",
      "  ax = fig.gca(projection='3d')\n"
     ]
    },
    {
     "data": {
      "image/png": "[encoded data removed]",
      "text/plain": [
       "<Figure size 864x432 with 1 Axes>"
      ]
     },
     "metadata": {
      "needs_background": "light"
     },
     "output_type": "display_data"
    }
   ],
   "source": [
    "plot_3d(xx_train, yy_train, z)"
   ]
  },
  {
   "cell_type": "code",
   "execution_count": null,
   "metadata": {
    "id": "HpoPIi43qKCy"
   },
   "outputs": [],
   "source": []
  },
  {
   "cell_type": "markdown",
   "metadata": {
    "id": "YSpI-uMrJaFT"
   },
   "source": [
    "# **Loi de Bayes**"
   ]
  },
  {
   "cell_type": "markdown",
   "metadata": {
    "id": "ZJgmL48hJfqW"
   },
   "source": [
    "Fonction de densité"
   ]
  },
  {
   "cell_type": "code",
   "execution_count": 63,
   "metadata": {
    "id": "Iek-Q-wfqKVP"
   },
   "outputs": [],
   "source": [
    "def den(p, cov, x, m):\n",
    "    cov_det = np.linalg.det(cov)\n",
    "    cov_inv  = np.linalg.inv(cov)\n",
    "    x_m_t = np.transpose(x-m)\n",
    "    x_m = x-m\n",
    "    return np.log(p)-0.5*np.log(cov_det)-0.5*(x_m_t.dot(cov_inv).dot(x_m))"
   ]
  },
  {
   "cell_type": "markdown",
   "metadata": {
    "id": "fbzg18tKJes1"
   },
   "source": []
  },
  {
   "cell_type": "code",
   "execution_count": 64,
   "metadata": {
    "colab": {
     "base_uri": "https://localhost:8080/"
    },
    "id": "Fx0mXeyRrjOY",
    "outputId": "acaf91b9-fbbb-4274-a272-bd6a82589b29"
   },
   "outputs": [
    {
     "data": {
      "text/plain": [
       "(307, 1)"
      ]
     },
     "execution_count": 64,
     "metadata": {},
     "output_type": "execute_result"
    }
   ],
   "source": [
    "y.shape"
   ]
  },
  {
   "cell_type": "markdown",
   "metadata": {
    "id": "y7-FyfiCJlhi"
   },
   "source": [
    "get XX(Les exemples de classe i), cov(Matrice de covariance de classe i), mean(moyene de classe i), p (probabilité de classe i = #classe i/ #tout"
   ]
  },
  {
   "cell_type": "code",
   "execution_count": 65,
   "metadata": {
    "id": "-wcpBFkZMS3f"
   },
   "outputs": [],
   "source": [
    "def get_class_parametre(X,y,i):\n",
    "    index = (y==i)\n",
    "    XX = X[index[:,0],:].T\n",
    "    cov = cov_mat(XX)\n",
    "    mean = np.mean(XX, axis=1)\n",
    "    p = y[index].shape[0]/y.shape[0]\n",
    "    return XX, cov, mean, p"
   ]
  },
  {
   "cell_type": "code",
   "execution_count": 66,
   "metadata": {
    "id": "XIyvCBPeMm3a"
   },
   "outputs": [],
   "source": [
    "X0, cov0, m0, p0 = get_class_parametre(X,y,0)"
   ]
  },
  {
   "cell_type": "code",
   "execution_count": 67,
   "metadata": {
    "id": "mrsyf17etgx_"
   },
   "outputs": [],
   "source": [
    "X1, cov1, m1, p1 = get_class_parametre(X,y,1)"
   ]
  },
  {
   "cell_type": "markdown",
   "metadata": {
    "id": "Ew2rlneWKA4k"
   },
   "source": [
    "**Calcul de probabilté selon Loi de Bayes**"
   ]
  },
  {
   "cell_type": "code",
   "execution_count": 68,
   "metadata": {
    "id": "PezBm1c1uFuU"
   },
   "outputs": [],
   "source": [
    "y_predict = np.zeros(y.shape[0])\n"
   ]
  },
  {
   "cell_type": "markdown",
   "metadata": {
    "id": "pelY2PruKLoI"
   },
   "source": [
    "P(x|w) c'est la fonction de densité :\n",
    "p(w|x) = 1 si p(x|w1)Xp1 > p(x|w0)Xp0 sinon 1"
   ]
  },
  {
   "cell_type": "code",
   "execution_count": 69,
   "metadata": {
    "colab": {
     "base_uri": "https://localhost:8080/"
    },
    "id": "cUBILCK6uNmD",
    "outputId": "634ccb46-c305-4b4d-cfe0-51d6039e0a77"
   },
   "outputs": [],
   "source": [
    "for i in range(y.shape[0]):\n",
    "    x = X[i,:]\n",
    "\n",
    "    d0 = den(p0, cov0, x, m0)\n",
    "    d1 = den(p1, cov1, x, m1)\n",
    "    if(d1*p1 > d0*p0):\n",
    "         y_predict[i] = 1\n",
    "\n"
   ]
  },
  {
   "cell_type": "markdown",
   "metadata": {
    "id": "IO9Z8ewsK4Xn"
   },
   "source": [
    "F1Score de loi de bayes:\n"
   ]
  },
  {
   "cell_type": "code",
   "execution_count": 70,
   "metadata": {
    "colab": {
     "base_uri": "https://localhost:8080/"
    },
    "id": "BdbHIUJzvW5o",
    "outputId": "6e85cf3f-8f10-4f8c-db3b-8fc456e562c8"
   },
   "outputs": [
    {
     "data": {
      "text/plain": [
       "0.07964601769911506"
      ]
     },
     "execution_count": 70,
     "metadata": {},
     "output_type": "execute_result"
    }
   ],
   "source": [
    "f1_score(y, y_predict)"
   ]
  },
  {
   "cell_type": "markdown",
   "metadata": {
    "id": "AS_jCSyvK-vd"
   },
   "source": []
  },
  {
   "cell_type": "markdown",
   "metadata": {
    "id": "p6-79IgwK3hI"
   },
   "source": []
  },
  {
   "cell_type": "markdown",
   "metadata": {
    "id": "c47rKy1pzsYG"
   },
   "source": [
    "# Travail à faire\n",
    "- 1) Nous aimerions bien choisir le epsilon, ceci est fait en analysant le score F1 obtenu precedenmment\n",
    "- 2) nous aimerions appliquer une gaussienne multivariée à nos caracterisqtues; et comparer les deux résultats (multiplication des gaussiennes univariées, et gaussienne multivariée)\n",
    "- 3) Nous aimerions visualiser en 3D la multiplication des gaussiennes univariées et la gaussienne multivariée pour comparaison. \n",
    "- 4) **** En Bonus - PAS obligatoire **** : nous aimerions utiliser la loi de Bayes afin de classifier nos exemples. Pour cela, voir le cours.\n"
   ]
  },
  {
   "cell_type": "code",
   "execution_count": null,
   "metadata": {
    "id": "DpYlsk8ztm1k"
   },
   "outputs": [],
   "source": []
  },
  {
   "cell_type": "markdown",
   "metadata": {
    "id": "1q-8odoLzsYH"
   },
   "source": [
    "# Consignes"
   ]
  },
  {
   "cell_type": "markdown",
   "metadata": {
    "id": "pwLYNnstzsYI"
   },
   "source": [
    "Le travail est à remettre par groupe de 4 au maximum [1..4].\n",
    "\n",
    "Le délai est le Lundi 23 Mai 2022 à 22h\n"
   ]
  },
  {
   "cell_type": "code",
   "execution_count": null,
   "metadata": {
    "id": "Sfv9XEQ1zsYI"
   },
   "outputs": [],
   "source": [
    "# bonne chance"
   ]
  }
 ],
 "metadata": {
  "colab": {
   "name": "TP8-Gaussienne.ipynb",
   "provenance": []
  },
  "kernelspec": {
   "display_name": "Python 3 (ipykernel)",
   "language": "python",
   "name": "python3"
  },
  "language_info": {
   "codemirror_mode": {
    "name": "ipython",
    "version": 3
   },
   "file_extension": ".py",
   "mimetype": "text/x-python",
   "name": "python",
   "nbconvert_exporter": "python",
   "pygments_lexer": "ipython3",
   "version": "3.9.7"
  }
 },
 "nbformat": 4,
 "nbformat_minor": 1
}
